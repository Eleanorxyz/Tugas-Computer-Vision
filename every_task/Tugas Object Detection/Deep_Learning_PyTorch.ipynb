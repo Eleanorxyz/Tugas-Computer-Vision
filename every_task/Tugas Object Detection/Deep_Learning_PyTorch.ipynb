{
  "cells": [
    {
      "cell_type": "markdown",
      "metadata": {
        "id": "sjlcHwermNUS"
      },
      "source": [
        "\n",
        "# Task - PyTorch\n",
        "\n",
        "\n",
        "You've written a lot of code in previous assignments to provide a whole host of neural network functionality in computer vision.\n",
        "\n",
        "For the this assignment, though, we're going to leave behind your beautiful codebase and instead migrate to one of two popular deep learning frameworks: in this instance, **PyTorch**\n",
        "\n",
        "\n",
        "The goals of this assignment are as follows:\n",
        "\n",
        "    * Use PyTorch at three different levels of abstraction,\n",
        "    * Barebone PyTorch: work directly with low-level PyTorch Tensor graphs.\n",
        "    * PyTorch Sequential API: use nn.Sequential to define a linear feed-forward network.\n",
        "    * PyTorch Module API: use nn.Module to define arbitrary neural network architecture.\n",
        "\n"
      ]
    },
    {
      "cell_type": "markdown",
      "metadata": {
        "id": "SF71bN55cZzi"
      },
      "source": [
        "Write down your Name and Student ID"
      ]
    },
    {
      "cell_type": "code",
      "execution_count": null,
      "metadata": {
        "colab": {
          "base_uri": "https://localhost:8080/"
        },
        "id": "S5yg44U8cZzk",
        "outputId": "ac853749-41fb-4906-b010-80bf805eab0e"
      },
      "outputs": [
        {
          "name": "stdout",
          "output_type": "stream",
          "text": [
            "Andi Muhammad Yanwar\n",
            "21/480350/PA/20863\n"
          ]
        }
      ],
      "source": [
        "## --- start your code here ----\n",
        "\n",
        "NIM  = print ('Andi Muhammad Yanwar')\n",
        "Nama = print ('21/480350/PA/20863')\n",
        "\n",
        "## --- end your code here ----"
      ]
    },
    {
      "cell_type": "markdown",
      "metadata": {
        "id": "pMlC1Kwa9Dl0"
      },
      "source": [
        "---\n",
        "## About PyTorch\n",
        "\n",
        "\n",
        "<img src=\"https://devblogs.nvidia.com/wp-content/uploads/2017/04/pytorch-logo-dark.png\" alt=\"tensorflow\" width=\"300px\"/>\n",
        "\n",
        "[PyTorch](https://pytorch.org/)  is a system for executing dynamic computational graphs over Tensor objects that behave similarly as numpy ndarray. It comes with a powerful automatic differentiation engine that removes the need for manual back-propagation.\n"
      ]
    },
    {
      "cell_type": "markdown",
      "metadata": {
        "id": "MHosKd7SVR78"
      },
      "source": [
        "---\n",
        "\n",
        "Working with PyTorch will give us benefits:\n",
        "\n",
        "* Our code will now run on GPUs! Much faster training. Writing your own modules to run on GPUs is beyond the scope of this class, unfortunately.\n",
        "\n",
        "* We want you to be ready to use one of these frameworks for your project so you can experiment more efficiently than if you were writing every feature you want to use by hand.\n",
        "\n",
        "* We want you to stand on the shoulders of giants! TensorFlow and PyTorch are both excellent frameworks that will make your lives a lot easier, and now that you understand their guts, you are free to use them :)\n",
        "\n",
        "* We want you to be exposed to the sort of deep learning code you might run into in academia or industry.\n"
      ]
    },
    {
      "cell_type": "markdown",
      "metadata": {
        "id": "57uBZVndkoIx"
      },
      "source": [
        "---\n",
        "\n",
        "## PyTorch versions\n",
        "This notebook assumes that you are using **PyTorch version 1.4**. In some of the previous versions (e.g. before 0.4), Tensors had to be wrapped in Variable objects to be used in autograd; however Variables have now been deprecated. In addition 1.0+ versions separate a Tensor's datatype from its device, and use numpy-style factories for constructing Tensors rather than directly invoking Tensor constructors.\n",
        "\n",
        "You can also find the detailed [API doc](http://pytorch.org/docs/stable/index.html) here. If you have other questions that are not addressed by the API docs, the [PyTorch forum](https://discuss.pytorch.org/) is a much better place to ask than StackOverflow."
      ]
    },
    {
      "cell_type": "markdown",
      "metadata": {
        "id": "QGarRj9tWulZ"
      },
      "source": [
        "---\n",
        "## GPU Runtime\n",
        "Since we're going to use TensorFlow, we can utilize the GPU to accelerate the process\n",
        "\n",
        "For that, make sure that this Colaboratory file is set to use GPU\n",
        "\n",
        "* select **Runtime** in taskbar\n",
        "* select **Change Runtime Type**\n",
        "* choose Hardware accelerator **GPU**\n",
        "\n",
        "<center>\n",
        "  \n",
        "![gpu](https://i.ibb.co/QX3Brf0/gpu.png)\n"
      ]
    },
    {
      "cell_type": "markdown",
      "metadata": {
        "id": "6VAE_sE-Bgk1"
      },
      "source": [
        "---\n",
        "---\n",
        "#[Part 0] Import Libraries and Load Data\n",
        "\n",
        "First, we load the CIFAR-10 dataset. This might take a couple minutes the first time you do it, but the files should stay cached after that.\n",
        "\n",
        "In previous parts of the assignment we had to write our own code to download the CIFAR-10 dataset, preprocess it, and iterate through it in minibatches; PyTorch provides convenient tools to automate this process for us."
      ]
    },
    {
      "cell_type": "markdown",
      "metadata": {
        "id": "12SMnaunBw96"
      },
      "source": [
        "---\n",
        "## 1 - Import Libraries\n",
        "\n",
        "Import required libraries"
      ]
    },
    {
      "cell_type": "code",
      "execution_count": null,
      "metadata": {
        "id": "hsZYqgngcZzY"
      },
      "outputs": [],
      "source": [
        "import os\n",
        "import torch\n",
        "import torch.nn as nn\n",
        "import torch.optim as optim\n",
        "from torch.utils.data import DataLoader\n",
        "from torch.utils.data import sampler\n",
        "\n",
        "import torchvision.datasets as dset\n",
        "import torchvision.transforms as T\n",
        "\n",
        "import numpy as np\n",
        "import matplotlib.pyplot as plt\n",
        "from tabulate import tabulate\n",
        "\n",
        "%matplotlib inline\n",
        "%load_ext autoreload\n",
        "%autoreload 2\n",
        "\n",
        "plt.rcParams['image.interpolation'] = 'nearest'\n",
        "plt.rcParams['image.cmap'] = 'gray'\n"
      ]
    },
    {
      "cell_type": "markdown",
      "metadata": {
        "id": "ywhQUOK236Zn"
      },
      "source": [
        "---\n",
        "## 2 - GPU Preparation"
      ]
    },
    {
      "cell_type": "code",
      "execution_count": null,
      "metadata": {
        "colab": {
          "base_uri": "https://localhost:8080/"
        },
        "id": "M6CRZOKM34PX",
        "outputId": "29ac66db-817d-43bd-f5e4-fd5ae67f1ebe"
      },
      "outputs": [
        {
          "name": "stdout",
          "output_type": "stream",
          "text": [
            "using device: cuda\n"
          ]
        }
      ],
      "source": [
        "USE_GPU = True\n",
        "\n",
        "dtype = torch.float32 # we will be using float throughout this tutorial\n",
        "\n",
        "if USE_GPU and torch.cuda.is_available():\n",
        "    device = torch.device('cuda')\n",
        "else:\n",
        "    device = torch.device('cpu')\n",
        "\n",
        "# Constant to control how frequently we print train loss\n",
        "print_every = 100\n",
        "\n",
        "print('using device:', device)"
      ]
    },
    {
      "cell_type": "markdown",
      "metadata": {
        "id": "wzfWo63-ybmZ"
      },
      "source": [
        "---\n",
        "## 3 - Torchvision Transforms\n",
        "The `torchvision.transforms` package provides tools for preprocessing data and for performing data augmentation; here we set up a transform to preprocess the data by subtracting the mean RGB value and dividing by the standard deviation of each RGB value; we've hardcoded the mean and std."
      ]
    },
    {
      "cell_type": "code",
      "execution_count": null,
      "metadata": {
        "id": "pb1sjvYmybmc"
      },
      "outputs": [],
      "source": [
        "transform = T.Compose([\n",
        "                T.ToTensor(),\n",
        "                T.Normalize((0.4914, 0.4822, 0.4465), (0.2023, 0.1994, 0.2010))\n",
        "            ])"
      ]
    },
    {
      "cell_type": "markdown",
      "metadata": {
        "id": "fTMPdtW1mNVv"
      },
      "source": [
        "---\n",
        "## 4 - Load CIFAR-10\n",
        "We set up a Dataset object for each split (train / val / test);\n",
        "\n",
        "Datasets load training examples one at a time, so we wrap each Dataset in a DataLoader which iterates through the Dataset and forms minibatches. We divide the CIFAR-10 training set into train and val sets by passing a Sampler object to the DataLoader telling how it should sample from the underlying Dataset."
      ]
    },
    {
      "cell_type": "code",
      "execution_count": null,
      "metadata": {
        "colab": {
          "base_uri": "https://localhost:8080/"
        },
        "id": "HJMZF1BZmNVw",
        "outputId": "4935165d-6429-4ffd-cb09-10ffe278e3dc"
      },
      "outputs": [
        {
          "name": "stdout",
          "output_type": "stream",
          "text": [
            "Downloading https://www.cs.toronto.edu/~kriz/cifar-10-python.tar.gz to ./data/cifar-10-python.tar.gz\n"
          ]
        },
        {
          "name": "stderr",
          "output_type": "stream",
          "text": [
            "100%|██████████| 170498071/170498071 [00:01<00:00, 102608902.57it/s]\n"
          ]
        },
        {
          "name": "stdout",
          "output_type": "stream",
          "text": [
            "Extracting ./data/cifar-10-python.tar.gz to ./data\n",
            "Files already downloaded and verified\n",
            "Files already downloaded and verified\n"
          ]
        }
      ],
      "source": [
        "from torch.utils.data.sampler import SubsetRandomSampler\n",
        "\n",
        "trainset = dset.CIFAR10(root='./data', train=True,  download=True, transform=transform)\n",
        "valset   = dset.CIFAR10(root='./data', train=True,  download=True, transform=transform)\n",
        "testset  = dset.CIFAR10(root='./data', train=False, download=True, transform=transform)\n",
        "\n",
        "\n",
        "NUM_TRAIN = 49000\n",
        "\n",
        "trainloader = DataLoader(trainset, batch_size=64, num_workers=2,\n",
        "                        sampler=SubsetRandomSampler(range(NUM_TRAIN)))\n",
        "valloader   = DataLoader(valset, batch_size=64, num_workers=2,\n",
        "                        sampler=SubsetRandomSampler(range(NUM_TRAIN, 50000)))\n",
        "testloader  = DataLoader(testset, batch_size=64)\n",
        "\n",
        "classes = ('plane', 'car', 'bird', 'cat', 'deer', 'dog', 'frog', 'horse', 'ship', 'truck')"
      ]
    },
    {
      "cell_type": "markdown",
      "metadata": {
        "id": "niRidOzgybmw"
      },
      "source": [
        "---\n",
        "---\n",
        "# [Part 1] Barebones PyTorch\n",
        "\n",
        "\n",
        "PyTorch ships with high-level APIs to help us define model architectures conveniently, which we will cover in Part 2 of this tutorial. In this section, we will start with the barebone PyTorch elements to understand the autograd engine better. After this exercise, you will come to appreciate the high-level model API more.\n",
        "\n",
        "We will start with a simple fully-connected ReLU network with two hidden layers and no biases for CIFAR classification.\n",
        "This implementation computes the forward pass using operations on PyTorch Tensors, and uses PyTorch autograd to compute gradients. It is important that you understand every line, because you will write a harder version after the example.\n",
        "\n",
        "When we create a PyTorch Tensor with `requires_grad=True`, then operations involving that Tensor will not just compute values; they will also build up a computational graph in the background, allowing us to easily backpropagate through the graph to compute gradients of some Tensors with respect to a downstream loss. Concretely if x is a Tensor with `x.requires_grad == True` then after backpropagation `x.grad` will be another Tensor holding the gradient of x with respect to the scalar loss at the end."
      ]
    },
    {
      "cell_type": "markdown",
      "metadata": {
        "id": "tcEM1V3vybmz"
      },
      "source": [
        "---\n",
        "## 1 - Flatten Function\n",
        "\n",
        "A PyTorch Tensor is conceptionally similar to a numpy array: it is an n-dimensional grid of numbers, and like numpy PyTorch provides many functions to efficiently operate on Tensors. As a simple example, we provide a `flatten` function below which reshapes image data for use in a fully-connected neural network.\n",
        "\n",
        "Recall that image data is typically stored in a Tensor of shape $N \\times C \\times H \\times W$, where:\n",
        "\n",
        "* $N$ is the number of datapoints\n",
        "* $C$ is the number of channels\n",
        "* $H$ is the height of the intermediate feature map in pixels\n",
        "* $W$ is the height of the intermediate feature map in pixels\n",
        "\n",
        "Run the code below to create flatten function"
      ]
    },
    {
      "cell_type": "code",
      "execution_count": null,
      "metadata": {
        "id": "-EzaGOLbybm0"
      },
      "outputs": [],
      "source": [
        "def flatten(x):\n",
        "    N = x.shape[0]          # read in N, C, H, W\n",
        "    return x.view(N, -1)    # \"flatten\" the C * H * W values into a single vector per image\n"
      ]
    },
    {
      "cell_type": "markdown",
      "metadata": {
        "id": "jM_-BudW3eYk"
      },
      "source": [
        "Test the implementation"
      ]
    },
    {
      "cell_type": "code",
      "execution_count": null,
      "metadata": {
        "colab": {
          "base_uri": "https://localhost:8080/"
        },
        "id": "vc2omX323gNX",
        "outputId": "5bb24689-7285-4f0d-ef90-47fc5fe8584e"
      },
      "outputs": [
        {
          "name": "stdout",
          "output_type": "stream",
          "text": [
            "Before flattening: \n",
            "tensor([[[[ 0,  1],\n",
            "          [ 2,  3],\n",
            "          [ 4,  5]]],\n",
            "\n",
            "\n",
            "        [[[ 6,  7],\n",
            "          [ 8,  9],\n",
            "          [10, 11]]]])\n",
            "\n",
            "After flattening: \n",
            "tensor([[ 0,  1,  2,  3,  4,  5],\n",
            "        [ 6,  7,  8,  9, 10, 11]])\n"
          ]
        }
      ],
      "source": [
        "x = torch.arange(12).view(2, 1, 3, 2)\n",
        "print('Before flattening: ')\n",
        "print(x)\n",
        "print('\\nAfter flattening: ')\n",
        "print(flatten(x))"
      ]
    },
    {
      "cell_type": "markdown",
      "metadata": {
        "id": "HXisF_CP3mbE"
      },
      "source": [
        "**EXPECTED OUTPUT**:\n",
        "<pre>\n",
        "Before flattening:\n",
        "tensor([[[[ 0,  1],\n",
        "          [ 2,  3],\n",
        "          [ 4,  5]]],\n",
        "\n",
        "        [[[ 6,  7],\n",
        "          [ 8,  9],\n",
        "          [10, 11]]]])\n",
        "\n",
        "After flattening:\n",
        "tensor([[ 0,  1,  2,  3,  4,  5],\n",
        "        [ 6,  7,  8,  9, 10, 11]])"
      ]
    },
    {
      "cell_type": "markdown",
      "metadata": {
        "id": "m3QnWebVybm5"
      },
      "source": [
        "---\n",
        "## 2 - Two-Layer Network\n",
        "\n",
        "Here we define a function `two_layer_fc` which performs the forward pass of a two-layer fully-connected ReLU network on a batch of image data. After defining the forward pass we check that it doesn't crash and that it produces outputs of the right shape by running zeros through the network.\n",
        "\n",
        "You don't have to write any code here, but it's important that you read and understand the implementation."
      ]
    },
    {
      "cell_type": "code",
      "execution_count": null,
      "metadata": {
        "id": "oxvoCFA-ybm7"
      },
      "outputs": [],
      "source": [
        "import torch.nn.functional as F  # useful stateless functions\n",
        "\n",
        "def two_layer_fc(x, weights):\n",
        "    x = flatten(x)  # shape: [batch_size, C x H x W]\n",
        "\n",
        "    w1, w2 = weights\n",
        "\n",
        "    # Forward pass: compute predicted y using operations on Tensors. Since w1 and\n",
        "    # w2 have requires_grad=True, operations involving these Tensors will cause\n",
        "    # PyTorch to build a computational graph, allowing automatic computation of\n",
        "    # gradients. Since we are no longer implementing the backward pass by hand we\n",
        "    # don't need to keep references to intermediate values.\n",
        "    # you can also use `.clamp(min=0)`, equivalent to F.relu()\n",
        "    x = F.relu(x.mm(w1))\n",
        "    scores = x.mm(w2)\n",
        "\n",
        "    return scores"
      ]
    },
    {
      "cell_type": "markdown",
      "metadata": {
        "id": "c3ge8m5iybnB"
      },
      "source": [
        "Test the network"
      ]
    },
    {
      "cell_type": "code",
      "execution_count": null,
      "metadata": {
        "colab": {
          "base_uri": "https://localhost:8080/"
        },
        "id": "GB8jNW9-ybnD",
        "outputId": "6a54dfd1-2e1d-4d28-92c0-249297f84930"
      },
      "outputs": [
        {
          "name": "stdout",
          "output_type": "stream",
          "text": [
            "torch.Size([64, 10])\n"
          ]
        }
      ],
      "source": [
        "hidden_size = 42\n",
        "x  = torch.zeros((64, 50), dtype=dtype)  # minibatch size 64, feature dimension 50\n",
        "w1 = torch.zeros((50, hidden_size), dtype=dtype)\n",
        "w2 = torch.zeros((hidden_size, 10), dtype=dtype)\n",
        "\n",
        "scores = two_layer_fc(x, [w1, w2])\n",
        "print(scores.size())  # you should see [64, 10]"
      ]
    },
    {
      "cell_type": "markdown",
      "metadata": {
        "id": "7AMXA1sK4Ebw"
      },
      "source": [
        "**EXPECTED OUTPUT**:\n",
        "<pre>\n",
        "torch.Size([64, 10])"
      ]
    },
    {
      "cell_type": "markdown",
      "metadata": {
        "id": "lSJl4IuiybnK"
      },
      "source": [
        "---\n",
        "## 3 - Three-Layer ConvNet\n",
        "\n",
        "Here you will complete the implementation of the function `three_layer_convnet`, which will perform the forward pass of a three-layer convolutional network. Like above, we can immediately test our implementation by passing zeros through the network.\n"
      ]
    },
    {
      "cell_type": "markdown",
      "metadata": {
        "id": "-2EGl6tR2j8z"
      },
      "source": [
        "---\n",
        "#### <font color='red'>**EXERCISE:** </font>\n",
        "\n",
        "    Implement three_layer_convnet() function\n",
        "    \n",
        "The network should have the following architecture:\n",
        "\n",
        "1. A convolutional layer `conv_w1` (with bias `conv_b1`), and `zero-padding = 2`\n",
        "2. ReLU nonlinearity\n",
        "3. A convolutional layer `conv_w2` (with bias `conv_b2`), and `zero-padding = 1`\n",
        "4. ReLU nonlinearity\n",
        "5. Fully-connected layer with bias, producing scores for C classes.\n",
        "\n",
        "**HINT**: For convolutions: http://pytorch.org/docs/stable/nn.html#torch.nn.functional.conv2d; pay attention to the shapes of convolutional filters!"
      ]
    },
    {
      "cell_type": "code",
      "execution_count": null,
      "metadata": {
        "id": "ZtbVCWXoybnM"
      },
      "outputs": [],
      "source": [
        "def three_layer_convnet(x, weights):\n",
        "\n",
        "    conv_w1, conv_b1, conv_w2, conv_b2, fc_w, fc_b = weights\n",
        "\n",
        "    # call F.conv2d with input x and corresponding weights, bias, and padding size\n",
        "    conv1 = F.conv2d(x, weight=conv_w1, bias=conv_b1, padding=2)\n",
        "\n",
        "    # call F.relu with input from conv1 graph\n",
        "    relu1 = F.relu(conv1)\n",
        "\n",
        "    # call F.conv2d with input x and corresponding weights, bias, and padding size\n",
        "    conv2 = F.conv2d(relu1, weight=conv_w2, bias=conv_b2, padding=1)\n",
        "\n",
        "    # call F.relu with input from conv2 graph\n",
        "    relu2 = F.relu(conv2)\n",
        "\n",
        "    # call flatten function with input from relu2 graph\n",
        "    relu2_flat = relu2.view(relu2.size(0), -1)\n",
        "\n",
        "    # score is matrix multiplication (.mm) from relu2_flat and fc_w added by bias fc_b\n",
        "    scores = relu2_flat.mm(fc_w) + fc_b\n",
        "\n",
        "\n",
        "    return scores"
      ]
    },
    {
      "cell_type": "markdown",
      "metadata": {
        "id": "cYlKu_38ybnQ"
      },
      "source": [
        "Test the network"
      ]
    },
    {
      "cell_type": "code",
      "execution_count": null,
      "metadata": {
        "colab": {
          "base_uri": "https://localhost:8080/"
        },
        "id": "zeCsOGZ0ybnS",
        "outputId": "a79daf0a-62e7-462e-b903-6875e32b8a27"
      },
      "outputs": [
        {
          "name": "stdout",
          "output_type": "stream",
          "text": [
            "torch.Size([64, 10])\n"
          ]
        }
      ],
      "source": [
        "x = torch.zeros((64, 3, 32, 32), dtype=dtype)  # minibatch size 64, image size [3, 32, 32]\n",
        "\n",
        "conv_w1 = torch.zeros((6, 3, 5, 5), dtype=dtype)  # [out_channel, in_channel, kernel_H, kernel_W]\n",
        "conv_b1 = torch.zeros((6,))                       # out_channel\n",
        "conv_w2 = torch.zeros((9, 6, 3, 3), dtype=dtype)  # [out_channel, in_channel, kernel_H, kernel_W]\n",
        "conv_b2 = torch.zeros((9,))                       # out_channel\n",
        "\n",
        "# you must calculate the shape of the tensor after two conv layers, before the fully-connected layer\n",
        "fc_w = torch.zeros((9 * 32 * 32, 10))\n",
        "fc_b = torch.zeros(10)\n",
        "\n",
        "weights = [conv_w1, conv_b1, conv_w2, conv_b2, fc_w, fc_b]\n",
        "scores = three_layer_convnet(x, weights)\n",
        "print(scores.size())  # you should see [64, 10]"
      ]
    },
    {
      "cell_type": "markdown",
      "metadata": {
        "id": "8lHaGH4t4IIB"
      },
      "source": [
        "**EXPECTED OUTPUT**:\n",
        "<pre>\n",
        "torch.Size([64, 10])"
      ]
    },
    {
      "cell_type": "markdown",
      "metadata": {
        "id": "O7p-BprfybnY"
      },
      "source": [
        "---\n",
        "## 4 - Initialization\n",
        "Let's write a couple utility methods to initialize the weight matrices for our models.\n",
        "\n",
        "- `random_weight(shape)` initializes a weight tensor with the Kaiming normalization method.\n",
        "- `zero_weight(shape)` initializes a weight tensor with all zeros. Useful for instantiating bias parameters.\n",
        "\n",
        "The `random_weight` function uses the Kaiming normal initialization method, described in:\n",
        "\n",
        "He et al, *Delving Deep into Rectifiers: Surpassing Human-Level Performance on ImageNet Classification*, ICCV 2015, https://arxiv.org/abs/1502.01852"
      ]
    },
    {
      "cell_type": "code",
      "execution_count": null,
      "metadata": {
        "id": "zq91fkiMybnY"
      },
      "outputs": [],
      "source": [
        "def random_weight(shape):\n",
        "    \"\"\"\n",
        "    Create random Tensors for weights; setting requires_grad=True means that we\n",
        "    want to compute gradients for these Tensors during the backward pass.\n",
        "    We use Kaiming normalization: sqrt(2 / fan_in)\n",
        "    \"\"\"\n",
        "    if len(shape) == 2:  # FC weight\n",
        "        fan_in = shape[0]\n",
        "    else:\n",
        "        fan_in = np.prod(shape[1:]) # conv weight [out_channel, in_channel, kH, kW]\n",
        "\n",
        "    # randn is standard normal distribution generator.\n",
        "    w = torch.randn(shape, device=device, dtype=dtype) * np.sqrt(2. / fan_in)\n",
        "    w.requires_grad = True\n",
        "    return w\n",
        "\n",
        "def zero_weight(shape):\n",
        "    return torch.zeros(shape, device=device, dtype=dtype, requires_grad=True)\n",
        "\n"
      ]
    },
    {
      "cell_type": "markdown",
      "metadata": {
        "id": "hsIht20vybnd"
      },
      "source": [
        "create a weight of shape [3 x 5]\n",
        "\n",
        "you should see the type `torch.cuda.FloatTensor` if you use GPU.\n",
        "\n",
        "Otherwise it should be `torch.FloatTensor`"
      ]
    },
    {
      "cell_type": "code",
      "execution_count": null,
      "metadata": {
        "colab": {
          "base_uri": "https://localhost:8080/"
        },
        "id": "AGYc4aHgybnd",
        "outputId": "eaaf9c1e-6e57-4883-db48-d61d5d4ddd4a"
      },
      "outputs": [
        {
          "data": {
            "text/plain": [
              "tensor([[-0.1289, -0.3770, -0.0211,  1.0400,  0.7002],\n",
              "        [-0.2867, -0.9373,  0.1478,  2.1875, -1.1180],\n",
              "        [ 0.3024,  0.2021,  0.0456, -0.7040,  0.3522]], device='cuda:0',\n",
              "       requires_grad=True)"
            ]
          },
          "execution_count": 17,
          "metadata": {},
          "output_type": "execute_result"
        }
      ],
      "source": [
        "random_weight((3, 5))"
      ]
    },
    {
      "cell_type": "markdown",
      "metadata": {
        "id": "Bz9NVuKJ5y3t"
      },
      "source": [
        "**EXPECTED OUTPUT**:\n",
        "<pre>\n",
        "(for GPU use, values will differ as it is random)\n",
        "tensor([[-2.1214, -0.4649, -0.9355, -0.5401, -1.0825],\n",
        "        [ 1.2381, -0.1490, -0.3315,  0.6228,  0.4353],\n",
        "        [-0.1512, -0.2273, -0.5878,  0.2374, -1.6609]],\n",
        "        device='cuda:0', requires_grad=True)"
      ]
    },
    {
      "cell_type": "markdown",
      "metadata": {
        "id": "jr5ssf_Cybnh"
      },
      "source": [
        "---\n",
        "## 5 - Check Accuracy\n",
        "When training the model we will use the following function to check the accuracy of our model on the training or validation sets.\n",
        "\n",
        "When checking accuracy we don't need to compute any gradients; as a result we don't need PyTorch to build a computational graph for us when we compute scores. To prevent a graph from being built we scope our computation under a `torch.no_grad()` context manager."
      ]
    },
    {
      "cell_type": "code",
      "execution_count": null,
      "metadata": {
        "id": "DIVp1QT7ybni"
      },
      "outputs": [],
      "source": [
        "def check_accuracy(loader, model_fn, weights):\n",
        "\n",
        "    split = 'val' if loader.dataset.train else 'test'\n",
        "    print('Checking accuracy on the %s set' % split)\n",
        "    num_correct, num_samples = 0, 0\n",
        "\n",
        "    with torch.no_grad():\n",
        "        for x, y in loader:\n",
        "            x = x.to(device=device, dtype=dtype)  # move to device, e.g. GPU\n",
        "            y = y.to(device=device, dtype=torch.int64)\n",
        "\n",
        "            scores = model_fn(x, weights)\n",
        "            _, preds = scores.max(1)\n",
        "            num_correct += (preds == y).sum()\n",
        "            num_samples += preds.size(0)\n",
        "\n",
        "        acc = float(num_correct) / num_samples\n",
        "        print('Got %d / %d correct (%.2f%%)' % (num_correct, num_samples, 100 * acc))"
      ]
    },
    {
      "cell_type": "markdown",
      "metadata": {
        "id": "KUwpRgOXybnr"
      },
      "source": [
        "---\n",
        "## 6 - Training Loop\n",
        "We can now set up a basic training loop to train our network. We will train the model using stochastic gradient descent without momentum. We will use `torch.functional.cross_entropy` to compute the loss; you can [read about it here](http://pytorch.org/docs/stable/nn.html#cross-entropy).\n",
        "\n",
        "The training loop takes as input the neural network function, a list of initialized parameters (`[w1, w2]` in our example), and learning rate."
      ]
    },
    {
      "cell_type": "code",
      "execution_count": null,
      "metadata": {
        "id": "nrpKmIWcybn2"
      },
      "outputs": [],
      "source": [
        "def train(model_fn, params, lr):\n",
        "\n",
        "    for t, (x, y) in enumerate(trainloader):\n",
        "        # Move the data to the proper device (GPU or CPU)\n",
        "        x = x.to(device=device, dtype=dtype)\n",
        "        y = y.to(device=device, dtype=torch.long)\n",
        "\n",
        "        # Forward pass: compute scores and loss\n",
        "        scores = model_fn(x, params)\n",
        "        loss   = F.cross_entropy(scores, y)\n",
        "\n",
        "        # Backward pass: PyTorch figures out which Tensors in the computational\n",
        "        # graph has requires_grad=True and uses backpropagation to compute the\n",
        "        # gradient of the loss with respect to these Tensors, and stores the\n",
        "        # gradients in the .grad attribute of each Tensor.\n",
        "        loss.backward()\n",
        "\n",
        "        # Update parameters. We don't want to backpropagate through the\n",
        "        # parameter updates, so we scope the updates under a torch.no_grad()\n",
        "        # context manager to prevent a computational graph from being built.\n",
        "        with torch.no_grad():\n",
        "            for w in params:\n",
        "                w -= lr * w.grad\n",
        "\n",
        "                # Manually zero the gradients after running the backward pass\n",
        "                w.grad.zero_()\n",
        "\n",
        "        if t % print_every == 0:\n",
        "            print('Iteration %d, loss = %.4f' % (t, loss.item()))\n",
        "            check_accuracy(valloader, model_fn, params)\n",
        "            print()"
      ]
    },
    {
      "cell_type": "markdown",
      "metadata": {
        "id": "K3WfJwwAybn7"
      },
      "source": [
        "---\n",
        "---\n",
        "# [Part 2] BareBones PyTorch Train\n",
        "\n",
        "after we define the bare-bones network, let's try to train them"
      ]
    },
    {
      "cell_type": "markdown",
      "metadata": {
        "id": "1Bueuqkzybn_"
      },
      "source": [
        "---\n",
        "## 1 - Train a Two-Layer Network\n",
        "Now we are ready to run the training loop. We need to explicitly allocate tensors for the fully connected weights, `w1` and `w2`.\n",
        "\n",
        "Each minibatch of CIFAR has 64 examples, so the tensor shape is `[64, 3, 32, 32]`.\n",
        "\n",
        "After flattening, `x` shape should be `[64, 3 * 32 * 32]`. This will be the size of the first dimension of `w1`.\n",
        "The second dimension of `w1` is the hidden layer size, which will also be the first dimension of `w2`.\n",
        "\n",
        "Finally, the output of the network is a 10-dimensional vector that represents the probability distribution over `10 classes`.\n"
      ]
    },
    {
      "cell_type": "markdown",
      "metadata": {
        "id": "eK4kK1T76mVG"
      },
      "source": [
        "\n",
        "You <font color='red'>**DON'T NEED**</font> to tune any hyperparameters but you should see accuracies **ABOVE 40%** after training for **ONE EPOCH**."
      ]
    },
    {
      "cell_type": "code",
      "execution_count": null,
      "metadata": {
        "colab": {
          "base_uri": "https://localhost:8080/"
        },
        "id": "45RowR7syboA",
        "outputId": "6f8f82f6-0848-41e5-85c8-13d2d94353ff"
      },
      "outputs": [
        {
          "name": "stdout",
          "output_type": "stream",
          "text": [
            "Iteration 0, loss = 3.1363\n",
            "Checking accuracy on the val set\n",
            "Got 137 / 1000 correct (13.70%)\n",
            "\n",
            "Iteration 100, loss = 2.0728\n",
            "Checking accuracy on the val set\n",
            "Got 307 / 1000 correct (30.70%)\n",
            "\n",
            "Iteration 200, loss = 2.3279\n",
            "Checking accuracy on the val set\n",
            "Got 299 / 1000 correct (29.90%)\n",
            "\n",
            "Iteration 300, loss = 1.8762\n",
            "Checking accuracy on the val set\n",
            "Got 429 / 1000 correct (42.90%)\n",
            "\n",
            "Iteration 400, loss = 1.8880\n",
            "Checking accuracy on the val set\n",
            "Got 418 / 1000 correct (41.80%)\n",
            "\n",
            "Iteration 500, loss = 1.6790\n",
            "Checking accuracy on the val set\n",
            "Got 427 / 1000 correct (42.70%)\n",
            "\n",
            "Iteration 600, loss = 2.1668\n",
            "Checking accuracy on the val set\n",
            "Got 446 / 1000 correct (44.60%)\n",
            "\n",
            "Iteration 700, loss = 1.6342\n",
            "Checking accuracy on the val set\n",
            "Got 450 / 1000 correct (45.00%)\n",
            "\n"
          ]
        }
      ],
      "source": [
        "hidden_size = 4000\n",
        "lr = 1e-2\n",
        "\n",
        "w1 = random_weight((3 * 32 * 32, hidden_size))\n",
        "w2 = random_weight((hidden_size, 10))\n",
        "\n",
        "train(two_layer_fc, [w1, w2], lr)"
      ]
    },
    {
      "cell_type": "markdown",
      "metadata": {
        "id": "jXMA2cE66Vjg"
      },
      "source": [
        "**EXPECTED OUTPUT**:\n",
        "<pre>\n",
        "loss should start around 3 and end around 1.7\n",
        "with accuracy start around 17% and end above 40%"
      ]
    },
    {
      "cell_type": "markdown",
      "metadata": {
        "id": "NzKH7aVUyboD"
      },
      "source": [
        "---\n",
        "## 2 - Training a ConvNet\n",
        "\n",
        "In the below you should use the functions defined above to train a three-layer convolutional network on CIFAR. The network should have the following architecture:\n",
        "\n",
        "1. Convolutional layer (with bias) with `32 channels output` of `5x5` filters, with `zero-padding of 2`\n",
        "2. ReLU\n",
        "3. Convolutional layer (with bias) with `16 channels output` of `3x3` filters, with `zero-padding of 1`\n",
        "4. ReLU\n",
        "5. Fully-connected layer (with bias) to compute scores for 10 classes\n",
        "\n",
        "You should initialize your weight matrices using the `random_weight` function defined above, and you should initialize your bias vectors using the `zero_weight` function above.\n",
        "\n"
      ]
    },
    {
      "cell_type": "markdown",
      "metadata": {
        "id": "xTvCxx957KoO"
      },
      "source": [
        "    \n",
        "\n",
        "You <font color='red'>**DON'T NEED**</font> to tune any hyperparameters but you should see accuracies **ABOVE 42%** after training for **ONE EPOCH**."
      ]
    },
    {
      "cell_type": "code",
      "execution_count": null,
      "metadata": {
        "colab": {
          "base_uri": "https://localhost:8080/"
        },
        "id": "E0RH3BWtyboE",
        "outputId": "32f3fa47-0c10-48f4-8a6f-b2af8a9b47e2"
      },
      "outputs": [
        {
          "name": "stdout",
          "output_type": "stream",
          "text": [
            "w1 shape =  torch.Size([32, 3, 5, 5])\n",
            "w2 shape =  torch.Size([16, 32, 3, 3])\n"
          ]
        }
      ],
      "source": [
        "lr        = 3e-3\n",
        "c_input   = 3\n",
        "c1_out    = 32\n",
        "c2_out    = 16\n",
        "f1W, f1H  = 5, 5\n",
        "f2W, f2H  = 3, 3\n",
        "num_class = 10\n",
        "\n",
        "# conv_w1 is random_weight() with input c1_out, c_input,\n",
        "# and the corresponding filter width f1W and height f1H\n",
        "conv_w1 = random_weight((c1_out, c_input, f1W, f1H))\n",
        "\n",
        "# conv_b1 is zero_weight() with input (c1_out,)\n",
        "conv_b1 = zero_weight((c1_out,))\n",
        "\n",
        "# conv_w2 is random_weight() with input c2_out, c1_out,\n",
        "# and the corresponding filter width f2W and height f2H\n",
        "conv_w2 = random_weight((c2_out, c1_out, f2W, f2H))\n",
        "\n",
        "# conv_b2 is zero_weight() with input (c2_out,)\n",
        "conv_b2 = zero_weight((c2_out,))\n",
        "\n",
        "# fc_w is random_weight() with input c2_out*32*32, num_class\n",
        "fc_w = random_weight((c2_out*32*32, 10))\n",
        "\n",
        "# fc_b is zero_weight() with input (num_class,)\n",
        "fc_b = zero_weight((10,))\n",
        "\n",
        "print('w1 shape = ',conv_w1.shape)\n",
        "print('w2 shape = ',conv_w2.shape)\n"
      ]
    },
    {
      "cell_type": "markdown",
      "metadata": {
        "id": "x_MoHXq3756D"
      },
      "source": [
        "**EXPECTED OUTPUT**:\n",
        "<pre>\n",
        "w1 shape =  torch.Size([32, 3, 5, 5])\n",
        "w2 shape =  torch.Size([16, 32, 3, 3])"
      ]
    },
    {
      "cell_type": "code",
      "execution_count": null,
      "metadata": {
        "colab": {
          "base_uri": "https://localhost:8080/"
        },
        "id": "EOtJ4txD7u6g",
        "outputId": "ff542f9b-c5e4-43e8-de7c-6775f9a4fff1"
      },
      "outputs": [
        {
          "name": "stdout",
          "output_type": "stream",
          "text": [
            "Iteration 0, loss = 3.5819\n",
            "Checking accuracy on the val set\n",
            "Got 125 / 1000 correct (12.50%)\n",
            "\n",
            "Iteration 100, loss = 1.7672\n",
            "Checking accuracy on the val set\n",
            "Got 366 / 1000 correct (36.60%)\n",
            "\n",
            "Iteration 200, loss = 1.5859\n",
            "Checking accuracy on the val set\n",
            "Got 411 / 1000 correct (41.10%)\n",
            "\n",
            "Iteration 300, loss = 1.7885\n",
            "Checking accuracy on the val set\n",
            "Got 435 / 1000 correct (43.50%)\n",
            "\n",
            "Iteration 400, loss = 1.7456\n",
            "Checking accuracy on the val set\n",
            "Got 439 / 1000 correct (43.90%)\n",
            "\n",
            "Iteration 500, loss = 1.3524\n",
            "Checking accuracy on the val set\n",
            "Got 455 / 1000 correct (45.50%)\n",
            "\n",
            "Iteration 600, loss = 1.3187\n",
            "Checking accuracy on the val set\n",
            "Got 463 / 1000 correct (46.30%)\n",
            "\n",
            "Iteration 700, loss = 1.5557\n",
            "Checking accuracy on the val set\n",
            "Got 472 / 1000 correct (47.20%)\n",
            "\n"
          ]
        }
      ],
      "source": [
        "weights = [conv_w1, conv_b1, conv_w2, conv_b2, fc_w, fc_b]\n",
        "\n",
        "train(three_layer_convnet, weights, lr)"
      ]
    },
    {
      "cell_type": "markdown",
      "metadata": {
        "id": "9H_tsx-I8BGm"
      },
      "source": [
        "**EXPECTED OUTPUT**:\n",
        "<pre>\n",
        "loss should start around 3 and end around 1.7\n",
        "with accuracy start around 17% and end above 42%"
      ]
    },
    {
      "cell_type": "markdown",
      "metadata": {
        "id": "aedU3gFfyboH"
      },
      "source": [
        "---\n",
        "---\n",
        "# [Part 3] PyTorch Module API\n",
        "\n",
        "Barebone PyTorch requires that we track all the parameter tensors by hand. This is fine for small networks with a few tensors, but it would be extremely inconvenient and error-prone to track tens or hundreds of tensors in larger networks.\n",
        "\n",
        "PyTorch provides the `nn.Module` API for you to define arbitrary network architectures, while tracking every learnable parameters for you.\n",
        "\n"
      ]
    },
    {
      "cell_type": "markdown",
      "metadata": {
        "id": "RixHYKq98Zkp"
      },
      "source": [
        "PyTorch also provides the `torch.optim` package that implements all the common optimizers, such as RMSProp, Adagrad, and Adam.\n",
        "It even supports approximate second-order methods like L-BFGS! You can refer to the [doc](http://pytorch.org/docs/master/optim.html) for the exact specifications of each optimizer.\n",
        "\n",
        "To use the Module API, follow the steps below:\n",
        "\n",
        "1. Subclass `nn.Module`. Give your network class an intuitive name like `TwoLayerFC`.\n",
        "\n",
        "2. In the constructor `__init__()`, define all the layers you need as class attributes. Layer objects like `nn.Linear` and `nn.Conv2d` are themselves `nn.Module` subclasses and contain learnable parameters, so that you don't have to instantiate the raw tensors yourself. `nn.Module` will track these internal parameters for you. Refer to the [doc](http://pytorch.org/docs/master/nn.html) to learn more about the dozens of builtin layers. **Warning**: don't forget to call the `super().__init__()` first!\n",
        "\n",
        "3. In the `forward()` method, define the *connectivity* of your network. You should use the attributes defined in `__init__` as function calls that take tensor as input and output the \"transformed\" tensor. Do *not* create any new layers with learnable parameters in `forward()`! All of them must be declared upfront in `__init__`.\n",
        "\n",
        "After you define your Module subclass, you can instantiate it as an object and call it just like the NN forward function in part 3."
      ]
    },
    {
      "cell_type": "markdown",
      "metadata": {
        "id": "RR6IpQK6yboL"
      },
      "source": [
        "---\n",
        "## 1 - Two-Layer Network\n",
        "Here is a concrete example of a 2-layer fully connected network:"
      ]
    },
    {
      "cell_type": "code",
      "execution_count": null,
      "metadata": {
        "id": "VpJK1mtOyboN"
      },
      "outputs": [],
      "source": [
        "class TwoLayerFC(nn.Module):\n",
        "    def __init__(self, input_size, hidden_size, num_classes):\n",
        "        super().__init__()\n",
        "\n",
        "        # assign layer objects to class attributes\n",
        "        self.fc1 = nn.Linear(input_size, hidden_size)\n",
        "        self.fc2 = nn.Linear(hidden_size, num_classes)\n",
        "\n",
        "        # initialize its weights\n",
        "        # nn.init package contains convenient initialization methods\n",
        "        # http://pytorch.org/docs/master/nn.html#torch-nn-init\n",
        "        nn.init.kaiming_normal_(self.fc1.weight)\n",
        "        nn.init.kaiming_normal_(self.fc2.weight)\n",
        "\n",
        "    def forward(self, x):\n",
        "        # forward always defines connectivity\n",
        "        x = flatten(x)\n",
        "        scores = self.fc2(F.relu(self.fc1(x)))\n",
        "        return scores"
      ]
    },
    {
      "cell_type": "markdown",
      "metadata": {
        "id": "xhh8D_4-ybob"
      },
      "source": [
        "Now, let's test the implementation"
      ]
    },
    {
      "cell_type": "code",
      "execution_count": null,
      "metadata": {
        "colab": {
          "base_uri": "https://localhost:8080/"
        },
        "id": "F3XIAfIPyboc",
        "outputId": "07de12f3-ac0d-424f-c7c7-345a4c6f6253"
      },
      "outputs": [
        {
          "name": "stdout",
          "output_type": "stream",
          "text": [
            "torch.Size([64, 10])\n"
          ]
        }
      ],
      "source": [
        "input_size = 50\n",
        "x      = torch.zeros((64, input_size), dtype=dtype)  # minibatch size 64, feature dimension 50\n",
        "model  = TwoLayerFC(input_size, 42, 10)\n",
        "scores = model(x)\n",
        "\n",
        "print(scores.size())  # you should see [64, 10]"
      ]
    },
    {
      "cell_type": "markdown",
      "metadata": {
        "id": "0E52LZ1N8jDl"
      },
      "source": [
        "**EXPECTED OUTPUT**:\n",
        "<pre>\n",
        "torch.Size([64, 10])"
      ]
    },
    {
      "cell_type": "markdown",
      "metadata": {
        "id": "4L_aFUZyybof"
      },
      "source": [
        "---\n",
        "## 2 - Three-Layer ConvNet\n",
        "\n",
        "It's your turn to implement a 3-layer ConvNet followed by a fully connected layer. The network architecture should be the same as in `Part 3`:\n",
        "\n",
        "1. Convolutional layer with `channel_1` of `5x5` filters, with `zero-padding of 2`\n",
        "2. ReLU\n",
        "3. Convolutional layer with `channel_2` of `3x3` filters, with `zero-padding of 1`\n",
        "4. ReLU\n",
        "5. Fully-connected layer to `num_classes` classes\n",
        "\n",
        "You should initialize the weight matrices of the model using the Kaiming normal initialization method.\n",
        "\n"
      ]
    },
    {
      "cell_type": "markdown",
      "metadata": {
        "id": "SLi8X80R8qiM"
      },
      "source": [
        "---\n",
        "#### <font color='red'>**EXERCISE:** </font>\n",
        "\n",
        "    Implement three-layer ConvNet class with the architecture defined above.                           \n",
        "    \n",
        "\n",
        "**HINT**: http://pytorch.org/docs/stable/nn.html#conv2d"
      ]
    },
    {
      "cell_type": "code",
      "execution_count": null,
      "metadata": {
        "id": "QlTJP1Onybof"
      },
      "outputs": [],
      "source": [
        "class ThreeLayerConvNet(nn.Module):\n",
        "    def __init__(self, in_c, c_1, c_2, num_classes):\n",
        "        super().__init__()\n",
        "\n",
        "        # conv1 is nn.Conv2d with input in_c, c_1,\n",
        "        # and the corresponding kernel_size, and padding\n",
        "        self.conv1 = nn.Conv2d(in_c, c_1, kernel_size=5, padding=2, bias=True)\n",
        "\n",
        "        # conv2 is nn.Conv2d with input c_1, c_2,\n",
        "        # and the corresponding kernel_size, and padding\n",
        "        self.conv2 = nn.Conv2d(c_1, c_2, kernel_size=3, padding=1, bias=True)\n",
        "\n",
        "        # fc is nn.Linear with input c_2*32*32, num_classes\n",
        "        self.fc = nn.Linear(c_2*32*32, num_classes)\n",
        "\n",
        "\n",
        "        # initialize conv weight with kaiming normal\n",
        "        # initialize conv1 bias with constant zeros\n",
        "        nn.init.kaiming_normal_(self.conv1.weight)\n",
        "        nn.init.kaiming_normal_(self.conv2.weight)\n",
        "        nn.init.kaiming_normal_(self.fc.weight)\n",
        "\n",
        "        nn.init.constant_(self.conv1.bias, 0)\n",
        "        nn.init.constant_(self.conv2.bias, 0)\n",
        "        nn.init.constant_(self.fc.bias, 0)\n",
        "\n",
        "\n",
        "    def forward(self, x):\n",
        "        scores = None\n",
        "\n",
        "        # call self.conv1() graph using input x\n",
        "        conv1 = self.conv1(x)\n",
        "\n",
        "        # call F.relu() with input conv1\n",
        "        relu1 = F.relu(conv1)\n",
        "\n",
        "        # call self.conv2() graph using input relu1\n",
        "        conv2 = self.conv2(relu1)\n",
        "\n",
        "        # call F.relu() with input from conv2\n",
        "        relu2 = F.relu(conv2)\n",
        "\n",
        "        # call flatten() function using input relu2\n",
        "        relu2_flat = flatten(relu2)\n",
        "\n",
        "        # call self.fc() with input relu2_flat\n",
        "        scores = self.fc(relu2_flat)\n",
        "\n",
        "\n",
        "        ########################################################################\n",
        "        #                             END OF YOUR CODE                         #\n",
        "        ########################################################################\n",
        "        return scores\n",
        "\n"
      ]
    },
    {
      "cell_type": "markdown",
      "metadata": {
        "id": "Xu1x0ZMJyboo"
      },
      "source": [
        "After you implement the three-layer ConvNet, test your implementation;\n",
        "it should print `(64, 10)` for the shape of the output scores."
      ]
    },
    {
      "cell_type": "code",
      "execution_count": null,
      "metadata": {
        "colab": {
          "base_uri": "https://localhost:8080/"
        },
        "id": "y3oRhRUUybos",
        "outputId": "b22f683c-f267-424b-8663-4bee07f3630a"
      },
      "outputs": [
        {
          "name": "stdout",
          "output_type": "stream",
          "text": [
            "torch.Size([64, 10])\n"
          ]
        }
      ],
      "source": [
        "x = torch.zeros((64, 3, 32, 32), dtype=dtype)  # minibatch size 64, image size [3, 32, 32]\n",
        "\n",
        "model  = ThreeLayerConvNet(in_c=3, c_1=12, c_2=8, num_classes=10)\n",
        "\n",
        "scores = model(x)\n",
        "\n",
        "print(scores.size())  # you should see [64, 10]"
      ]
    },
    {
      "cell_type": "markdown",
      "metadata": {
        "id": "1Of1l_yb8oMF"
      },
      "source": [
        "**EXPECTED OUTPUT**:\n",
        "<pre>\n",
        "torch.Size([64, 10])"
      ]
    },
    {
      "cell_type": "markdown",
      "metadata": {
        "id": "PLduxbSCybov"
      },
      "source": [
        "---\n",
        "## 3 - Check Accuracy\n",
        "Given the validation or test set, we can check the classification accuracy of a neural network.\n",
        "\n",
        "This version is slightly different from the one in part 3. You don't manually pass in the parameters anymore."
      ]
    },
    {
      "cell_type": "code",
      "execution_count": null,
      "metadata": {
        "id": "d7dcau7Yybow"
      },
      "outputs": [],
      "source": [
        "def check_accuracy_module(loader, model):\n",
        "    if loader.dataset.train:\n",
        "        print('Checking accuracy on validation set')\n",
        "    else:\n",
        "        print('Checking accuracy on test set')\n",
        "    num_correct = 0\n",
        "    num_samples = 0\n",
        "    model.eval()  # set model to evaluation mode\n",
        "\n",
        "    with torch.no_grad():\n",
        "        for x, y in loader:\n",
        "            x = x.to(device=device, dtype=dtype)  # move to device, e.g. GPU\n",
        "            y = y.to(device=device, dtype=torch.long)\n",
        "            scores = model(x)\n",
        "            _, preds = scores.max(1)\n",
        "            num_correct += (preds == y).sum()\n",
        "            num_samples += preds.size(0)\n",
        "\n",
        "        acc = float(num_correct) / num_samples\n",
        "        print('Got %d / %d correct (%.2f)' % (num_correct, num_samples, 100 * acc))"
      ]
    },
    {
      "cell_type": "markdown",
      "metadata": {
        "id": "T-uhxTjXyboz"
      },
      "source": [
        "---\n",
        "## 4 - Training Loop\n",
        "We also use a slightly different training loop. Rather than updating the values of the weights ourselves, we use an Optimizer object from the `torch.optim` package, which abstract the notion of an optimization algorithm and provides implementations of most of the algorithms commonly used to optimize neural networks."
      ]
    },
    {
      "cell_type": "code",
      "execution_count": null,
      "metadata": {
        "id": "G5kfS2zkyboz"
      },
      "outputs": [],
      "source": [
        "def train_module(model, optimizer, epochs=1):\n",
        "    \"\"\"\n",
        "    Train a model on CIFAR-10 using the PyTorch Module API.\n",
        "\n",
        "    Inputs:\n",
        "    - model: A PyTorch Module giving the model to train.\n",
        "    - optimizer: An Optimizer object we will use to train the model\n",
        "    - epochs: (Optional) A Python integer giving the number of epochs to train for\n",
        "\n",
        "    Returns: Nothing, but prints model accuracies during training.\n",
        "    \"\"\"\n",
        "    model = model.to(device=device)  # move the model parameters to CPU/GPU\n",
        "    for e in range(epochs):\n",
        "        for t, (x, y) in enumerate(trainloader):\n",
        "            model.train()  # put model to training mode\n",
        "            x = x.to(device=device, dtype=dtype)  # move to device, e.g. GPU\n",
        "            y = y.to(device=device, dtype=torch.long)\n",
        "\n",
        "            scores = model(x)\n",
        "            loss = F.cross_entropy(scores, y)\n",
        "\n",
        "            # Zero out all of the gradients for the variables which the optimizer\n",
        "            # will update.\n",
        "            optimizer.zero_grad()\n",
        "\n",
        "            # This is the backwards pass: compute the gradient of the loss with\n",
        "            # respect to each  parameter of the model.\n",
        "            loss.backward()\n",
        "\n",
        "            # Actually update the parameters of the model using the gradients\n",
        "            # computed by the backwards pass.\n",
        "            optimizer.step()\n",
        "\n",
        "            if t % print_every == 0:\n",
        "                print('Iteration %d, loss = %.4f' % (t, loss.item()))\n",
        "                check_accuracy_module(valloader, model)\n",
        "                print()"
      ]
    },
    {
      "cell_type": "markdown",
      "metadata": {
        "id": "BPq1jUn-ybo6"
      },
      "source": [
        "---\n",
        "## 5 - Train a Two-Layer Network\n",
        "Now we are ready to run the training loop. In contrast to part 3, we don't explicitly allocate parameter tensors anymore.\n",
        "\n",
        "Simply pass the input size, hidden layer size, and number of classes (i.e. output size) to the constructor of `TwoLayerFC`.\n",
        "\n",
        "You also need to define an optimizer that tracks all the learnable parameters inside `TwoLayerFC`.\n"
      ]
    },
    {
      "cell_type": "markdown",
      "metadata": {
        "id": "0PGhbLGj9eYg"
      },
      "source": [
        "\n",
        "You <font color='red'>**DON'T NEED**</font> to tune any hyperparameters but you should see accuracies **ABOVE 40%** after training for **ONE EPOCH**."
      ]
    },
    {
      "cell_type": "code",
      "execution_count": null,
      "metadata": {
        "colab": {
          "base_uri": "https://localhost:8080/"
        },
        "id": "Uvp4t2kMybo6",
        "outputId": "86e26ddd-1929-4286-d80f-79122000e61a"
      },
      "outputs": [
        {
          "name": "stdout",
          "output_type": "stream",
          "text": [
            "Iteration 0, loss = 3.1028\n",
            "Checking accuracy on validation set\n",
            "Got 151 / 1000 correct (15.10)\n",
            "\n",
            "Iteration 100, loss = 2.5887\n",
            "Checking accuracy on validation set\n",
            "Got 299 / 1000 correct (29.90)\n",
            "\n",
            "Iteration 200, loss = 2.3499\n",
            "Checking accuracy on validation set\n",
            "Got 393 / 1000 correct (39.30)\n",
            "\n",
            "Iteration 300, loss = 2.3285\n",
            "Checking accuracy on validation set\n",
            "Got 420 / 1000 correct (42.00)\n",
            "\n",
            "Iteration 400, loss = 1.9081\n",
            "Checking accuracy on validation set\n",
            "Got 435 / 1000 correct (43.50)\n",
            "\n",
            "Iteration 500, loss = 2.0282\n",
            "Checking accuracy on validation set\n",
            "Got 419 / 1000 correct (41.90)\n",
            "\n",
            "Iteration 600, loss = 1.2109\n",
            "Checking accuracy on validation set\n",
            "Got 439 / 1000 correct (43.90)\n",
            "\n",
            "Iteration 700, loss = 1.8818\n",
            "Checking accuracy on validation set\n",
            "Got 420 / 1000 correct (42.00)\n",
            "\n"
          ]
        }
      ],
      "source": [
        "hidden_size = 4000\n",
        "lr = 1e-2\n",
        "\n",
        "model = TwoLayerFC(3 * 32 * 32, hidden_size, 10)\n",
        "\n",
        "optimizer = optim.SGD(model.parameters(), lr=lr)\n",
        "\n",
        "train_module(model, optimizer)"
      ]
    },
    {
      "cell_type": "markdown",
      "metadata": {
        "id": "BwF_TXgd9lXa"
      },
      "source": [
        "**EXPECTED OUTPUT**:\n",
        "<pre>\n",
        "loss should start around 4 and end around 1.7\n",
        "with accuracy start around 10% and end above 40%"
      ]
    },
    {
      "cell_type": "markdown",
      "metadata": {
        "id": "f9GHNLOoybo-"
      },
      "source": [
        "---\n",
        "## 6 - Train a Three-Layer ConvNet\n",
        "\n",
        "You should now use the Module API to train a three-layer ConvNet on CIFAR. This should look very similar to training the two-layer network!\n",
        "\n",
        "You should train the model using stochastic gradient descent WITHOUT momentum."
      ]
    },
    {
      "cell_type": "markdown",
      "metadata": {
        "id": "_It2ZALT95lp"
      },
      "source": [
        "    \n",
        "\n",
        "You <font color='red'>**DON'T NEED**</font> to tune any hyperparameters but you should see accuracies **ABOVE 45%** after training for **ONE EPOCH**."
      ]
    },
    {
      "cell_type": "code",
      "execution_count": null,
      "metadata": {
        "colab": {
          "base_uri": "https://localhost:8080/"
        },
        "id": "mSeHg-u8ybo_",
        "outputId": "47a18eac-44e0-46bf-a660-4eea3967887c"
      },
      "outputs": [
        {
          "name": "stdout",
          "output_type": "stream",
          "text": [
            "Iteration 0, loss = 3.3053\n",
            "Checking accuracy on validation set\n",
            "Got 117 / 1000 correct (11.70)\n",
            "\n",
            "Iteration 100, loss = 1.9457\n",
            "Checking accuracy on validation set\n",
            "Got 371 / 1000 correct (37.10)\n",
            "\n",
            "Iteration 200, loss = 1.9642\n",
            "Checking accuracy on validation set\n",
            "Got 407 / 1000 correct (40.70)\n",
            "\n",
            "Iteration 300, loss = 1.8670\n",
            "Checking accuracy on validation set\n",
            "Got 420 / 1000 correct (42.00)\n",
            "\n",
            "Iteration 400, loss = 1.5207\n",
            "Checking accuracy on validation set\n",
            "Got 444 / 1000 correct (44.40)\n",
            "\n",
            "Iteration 500, loss = 1.5809\n",
            "Checking accuracy on validation set\n",
            "Got 453 / 1000 correct (45.30)\n",
            "\n",
            "Iteration 600, loss = 1.7730\n",
            "Checking accuracy on validation set\n",
            "Got 463 / 1000 correct (46.30)\n",
            "\n",
            "Iteration 700, loss = 1.4427\n",
            "Checking accuracy on validation set\n",
            "Got 473 / 1000 correct (47.30)\n",
            "\n"
          ]
        }
      ],
      "source": [
        "lr  = 3e-3\n",
        "c_1 = 32\n",
        "c_2 = 16\n",
        "\n",
        "model = ThreeLayerConvNet(3, c_1, c_2, 10)\n",
        "\n",
        "optimizer = optim.SGD(model.parameters(), lr=lr)\n",
        "\n",
        "train_module(model, optimizer)"
      ]
    },
    {
      "cell_type": "markdown",
      "metadata": {
        "id": "c5w3sOUK92gw"
      },
      "source": [
        "**EXPECTED OUTPUT**:\n",
        "<pre>\n",
        "loss should start around 3 and end around 1.6\n",
        "with accuracy start around 10% and end above 45%"
      ]
    },
    {
      "cell_type": "markdown",
      "metadata": {
        "id": "6Z9PaTiCybpB"
      },
      "source": [
        "---\n",
        "---\n",
        "# [Part 4] PyTorch Sequential API\n",
        "In previous part, introduced the PyTorch Module API, which allows you to define arbitrary learnable layers and their connectivity.\n",
        "\n",
        "For simple models like a stack of feed forward layers, you still need to go through 3 steps: subclass `nn.Module`, assign layers to class attributes in `__init__`, and call each layer one by one in `forward()`.\n",
        "\n",
        "Is there a more convenient way?\n",
        "\n"
      ]
    },
    {
      "cell_type": "markdown",
      "metadata": {
        "id": "9sxP-gbY-hfK"
      },
      "source": [
        "\n",
        "Fortunately, PyTorch provides a container Module called `nn.Sequential`, which merges the above steps into one. It is not as flexible as `nn.Module`, because you cannot specify more complex topology than a feed-forward stack, but it's good enough for many use cases."
      ]
    },
    {
      "cell_type": "code",
      "execution_count": null,
      "metadata": {
        "colab": {
          "background_save": true
        },
        "id": "gOPm-QQIybpC"
      },
      "outputs": [],
      "source": [
        "# We need to wrap `flatten` function in a module in order to stack it\n",
        "# in nn.Sequential\n",
        "class Flatten(nn.Module):\n",
        "    def forward(self, x):\n",
        "        return flatten(x)\n",
        "\n",
        "# Weight initialization\n",
        "# Ref: http://pytorch.org/docs/stable/nn.html#torch.nn.Module.apply\n",
        "def init_weights(m):\n",
        "    # print(m)\n",
        "    if type(m) == nn.Conv2d or type(m) == nn.Linear:\n",
        "        random_weight(m.weight.size())\n",
        "        zero_weight(m.bias.size())"
      ]
    },
    {
      "cell_type": "markdown",
      "metadata": {
        "id": "xI88RDW9ybpE"
      },
      "source": [
        "---\n",
        "## 1 - Two-Layer Network\n",
        "Let's see how to rewrite our two-layer fully connected network example with `nn.Sequential`, and train it using the training loop defined above.\n",
        "\n",
        "Again, You **DON'T NEED** to tune any hyperparameters but you should achieve **ABOVE 40%** after training for **ONE EPOCH**\n"
      ]
    },
    {
      "cell_type": "markdown",
      "metadata": {
        "id": "QmCtKEL7-pqo"
      },
      "source": [
        "    \n",
        "\n",
        "You <font color='red'>**DON'T NEED**</font> to tune any hyperparameters but you should see accuracies **ABOVE 40%** after training for **ONE EPOCH**."
      ]
    },
    {
      "cell_type": "code",
      "execution_count": null,
      "metadata": {
        "colab": {
          "base_uri": "https://localhost:8080/"
        },
        "id": "fXwX-6u1ybpF",
        "outputId": "d9cc448d-b25c-47ea-f5ff-5377430dcf25"
      },
      "outputs": [
        {
          "name": "stdout",
          "output_type": "stream",
          "text": [
            "Iteration 0, loss = 2.3550\n",
            "Checking accuracy on validation set\n",
            "Got 136 / 1000 correct (13.60)\n",
            "\n",
            "Iteration 100, loss = 2.0157\n",
            "Checking accuracy on validation set\n",
            "Got 396 / 1000 correct (39.60)\n",
            "\n",
            "Iteration 200, loss = 1.6192\n",
            "Checking accuracy on validation set\n",
            "Got 404 / 1000 correct (40.40)\n",
            "\n",
            "Iteration 300, loss = 1.6578\n",
            "Checking accuracy on validation set\n",
            "Got 406 / 1000 correct (40.60)\n",
            "\n",
            "Iteration 400, loss = 2.1070\n",
            "Checking accuracy on validation set\n",
            "Got 443 / 1000 correct (44.30)\n",
            "\n",
            "Iteration 500, loss = 1.4292\n",
            "Checking accuracy on validation set\n",
            "Got 443 / 1000 correct (44.30)\n",
            "\n",
            "Iteration 600, loss = 2.2066\n",
            "Checking accuracy on validation set\n",
            "Got 448 / 1000 correct (44.80)\n",
            "\n",
            "Iteration 700, loss = 1.7879\n",
            "Checking accuracy on validation set\n",
            "Got 434 / 1000 correct (43.40)\n",
            "\n"
          ]
        }
      ],
      "source": [
        "hidden_size = 4000\n",
        "lr = 1e-2\n",
        "\n",
        "model = nn.Sequential(\n",
        "    Flatten(),\n",
        "    nn.Linear(3 * 32 * 32, hidden_size),\n",
        "    nn.ReLU(),\n",
        "    nn.Linear(hidden_size, 10),\n",
        ")\n",
        "\n",
        "\n",
        "# you can use Nesterov momentum in optim.SGD\n",
        "optimizer = optim.SGD(model.parameters(), lr=lr,\n",
        "                     momentum=0.9, nesterov=True)\n",
        "\n",
        "train_module(model, optimizer)"
      ]
    },
    {
      "cell_type": "markdown",
      "metadata": {
        "id": "zHK_taQP-xPk"
      },
      "source": [
        "**EXPECTED OUTPUT**:\n",
        "<pre>\n",
        "loss should start around 3 and end around 1.7\n",
        "with accuracy start around 16% and end above 40%"
      ]
    },
    {
      "cell_type": "markdown",
      "metadata": {
        "id": "FWnT1c1uybpI"
      },
      "source": [
        "---\n",
        "## 2 - Three-Layer ConvNet\n",
        "\n",
        "Here you should use `nn.Sequential` to define and train a three-layer ConvNet with the same architecture we used in `Part 3`:\n",
        "\n",
        "1. Convolutional layer with `channel_1` of `5x5` filters, with `zero-padding of 2`\n",
        "2. ReLU\n",
        "3. Convolutional layer with `channel_2` of `3x3` filters, with `zero-padding of 1`\n",
        "4. ReLU\n",
        "5. Fully-connected layer to `num_classes` classes\n",
        "\n",
        "\n",
        "You should initialize your weight matrices using the `random_weight` function defined above, and you should initialize your bias vectors using the `zero_weight` function above.\n",
        "\n",
        "You should optimize your model using stochastic gradient descent with `Nesterov momentum 0.9`.\n"
      ]
    },
    {
      "cell_type": "markdown",
      "metadata": {
        "id": "k3g9zl8e_BW8"
      },
      "source": [
        "---\n",
        "#### <font color='red'>**EXERCISE:** </font>\n",
        "\n",
        "    Train a three-layer ConvNet\n",
        "    use Nesterov Update with Momentum=0.9\n",
        "    \n",
        "\n",
        "Again, You <font color='red'>**DON'T NEED**</font> to tune any hyperparameters but you should see accuracies **ABOVE 55%** after training for **ONE EPOCH**."
      ]
    },
    {
      "cell_type": "code",
      "execution_count": null,
      "metadata": {
        "colab": {
          "base_uri": "https://localhost:8080/",
          "height": 211
        },
        "id": "3whWuFh2ybpI",
        "outputId": "63b53b44-97bf-404a-d662-b2a15aaf690f"
      },
      "outputs": [
        {
          "ename": "AttributeError",
          "evalue": "module 'torch.nn' has no attribute 'Relu'",
          "output_type": "error",
          "traceback": [
            "\u001b[0;31m---------------------------------------------------------------------------\u001b[0m",
            "\u001b[0;31mAttributeError\u001b[0m                            Traceback (most recent call last)",
            "\u001b[0;32m<ipython-input-37-354c3ec7b17f>\u001b[0m in \u001b[0;36m<cell line: 12>\u001b[0;34m()\u001b[0m\n\u001b[1;32m     17\u001b[0m \u001b[0;34m\u001b[0m\u001b[0m\n\u001b[1;32m     18\u001b[0m     \u001b[0;31m# add nn.Relu()\u001b[0m\u001b[0;34m\u001b[0m\u001b[0;34m\u001b[0m\u001b[0m\n\u001b[0;32m---> 19\u001b[0;31m     \u001b[0mnn\u001b[0m\u001b[0;34m.\u001b[0m\u001b[0mRelu\u001b[0m\u001b[0;34m(\u001b[0m\u001b[0;34m)\u001b[0m\u001b[0;34m,\u001b[0m\u001b[0;34m\u001b[0m\u001b[0;34m\u001b[0m\u001b[0m\n\u001b[0m\u001b[1;32m     20\u001b[0m \u001b[0;34m\u001b[0m\u001b[0m\n\u001b[1;32m     21\u001b[0m     \u001b[0;31m# add nn.Conv2d() with input c_1, c_2,\u001b[0m\u001b[0;34m\u001b[0m\u001b[0;34m\u001b[0m\u001b[0m\n",
            "\u001b[0;31mAttributeError\u001b[0m: module 'torch.nn' has no attribute 'Relu'"
          ]
        }
      ],
      "source": [
        "c_input = 3\n",
        "c_1     = 32\n",
        "c_2     = 16\n",
        "lr      = 1e-2\n",
        "\n",
        "\n",
        "################################################################################\n",
        "# TODO: Rewrite the 3-layer ConvNet with bias from Part 4 with the             #\n",
        "# Sequential API.                                                              #\n",
        "################################################################################\n",
        "\n",
        "model = nn.Sequential(\n",
        "\n",
        "    # add nn.Conv2d() with input c_input, c_1,\n",
        "    # and the corresponding kernel size and padding\n",
        "    nn.Conv2d(c_input, c_1, kernel_size=5, padding=2),\n",
        "\n",
        "    # add nn.Relu()\n",
        "    nn.Relu(),\n",
        "\n",
        "    # add nn.Conv2d() with input c_1, c_2,\n",
        "    # and the corresponding kernel size and padding\n",
        "    nn.Conv2d(c_1, c_2, kernel_size=3, padding=1),\n",
        "\n",
        "    # add nn.Relu()\n",
        "    nn.Relu(),\n",
        "\n",
        "    # add Flatten() class defined above\n",
        "    Flatten(),\n",
        "\n",
        "    # lastly add nn.Linear() with input c_2*32*32, num_class\n",
        "    nn.Linear(c_2*32*32, num_class),\n",
        "\n",
        ")\n",
        "\n",
        "optimizer = optim.SGD(model.parameters(), lr=lr,\n",
        "                     momentum=0.9, nesterov=True)\n",
        "\n",
        "################################################################################\n",
        "#                                 END OF YOUR CODE\n",
        "################################################################################\n",
        "\n",
        "model.apply(init_weights)\n",
        "train_module(model, optimizer)"
      ]
    },
    {
      "cell_type": "markdown",
      "metadata": {
        "id": "cxJKMsLK_dtt"
      },
      "source": [
        "**EXPECTED OUTPUT**:\n",
        "<pre>\n",
        "loss should start around 2.5 and end around 1.2\n",
        "with accuracy start around 15% and end above 55%"
      ]
    }
  ],
  "metadata": {
    "accelerator": "GPU",
    "colab": {
      "toc_visible": true,
      "provenance": []
    },
    "kernelspec": {
      "display_name": "Python 3",
      "name": "python3"
    },
    "language_info": {
      "codemirror_mode": {
        "name": "ipython",
        "version": 3
      },
      "file_extension": ".py",
      "mimetype": "text/x-python",
      "name": "python",
      "nbconvert_exporter": "python",
      "pygments_lexer": "ipython3",
      "version": "3.7.3"
    },
    "toc": {
      "base_numbering": 1,
      "nav_menu": {},
      "number_sections": false,
      "sideBar": true,
      "skip_h1_title": false,
      "title_cell": "Table of Contents",
      "title_sidebar": "Contents",
      "toc_cell": false,
      "toc_position": {},
      "toc_section_display": true,
      "toc_window_display": true
    }
  },
  "nbformat": 4,
  "nbformat_minor": 0
}