{
  "cells": [
    {
      "cell_type": "markdown",
      "metadata": {
        "id": "8WGg98rBctSg"
      },
      "source": [
        "\n",
        "# Task Object Detection - You Only Look Once Object Detection\n",
        "\n",
        "You only look once (YOLO) is a state-of-the-art, real-time object detection system. The latest improvement of YOLO achieve mAP of 57.9% on COCO test-dev with an ability of processing images at 30 FPS.\n",
        "\n",
        "<center>\n",
        "<img src='https://s3-us-west-2.amazonaws.com/static.pyimagesearch.com/opencv-yolo/yolo_car_chase_01_output.gif' width=500>\n",
        "</center>\n",
        "\n",
        "Currently there are several version of improvements, from YOLO, YOLO9000, YOLOv2, and the latest is YOLOv3\n",
        "\n",
        "<center>\n",
        "<img src='https://miro.medium.com/max/1091/1*ju1oaoIkVUkaIPAdpehlzA.png' width=500>\n",
        "</center>\n",
        "\n",
        "<br>\n",
        "\n",
        "In this exercise, we will build a simplified version of YOLO detection system and train it using **makeshift** detection dataset\n"
      ]
    },
    {
      "cell_type": "markdown",
      "metadata": {
        "id": "SF71bN55cZzi"
      },
      "source": [
        "Write down your Name and Student ID"
      ]
    },
    {
      "cell_type": "code",
      "execution_count": 1,
      "metadata": {
        "colab": {
          "base_uri": "https://localhost:8080/"
        },
        "id": "S5yg44U8cZzk",
        "outputId": "244a51f6-5039-4c59-d00b-093a2377e050"
      },
      "outputs": [
        {
          "output_type": "stream",
          "name": "stdout",
          "text": [
            "Andi Muhammad Yanwar\n",
            "21/480350/PA/20863\n"
          ]
        }
      ],
      "source": [
        "## --- start your code here ----\n",
        "\n",
        "NIM  = print('Andi Muhammad Yanwar')\n",
        "Nama = print('21/480350/PA/20863')\n",
        "\n",
        "## --- end your code here ----"
      ]
    },
    {
      "cell_type": "markdown",
      "metadata": {
        "id": "6VAE_sE-Bgk1"
      },
      "source": [
        "---\n",
        "---\n",
        "#[Part 0] Import Libraries"
      ]
    },
    {
      "cell_type": "markdown",
      "metadata": {
        "id": "WvTLgxWsfaJm"
      },
      "source": [
        "---\n",
        "## 1 - Import Module\n",
        "\n",
        "import the necessary modules"
      ]
    },
    {
      "cell_type": "code",
      "execution_count": 2,
      "metadata": {
        "id": "JC_hj76sMEnF"
      },
      "outputs": [],
      "source": [
        "import numpy as np\n",
        "import tensorflow as tf\n",
        "from PIL import Image, ImageDraw, ImageFont\n",
        "from tensorflow.keras.layers import *\n",
        "from tensorflow.keras.models import Sequential, Model\n",
        "from tensorflow.keras.utils import to_categorical, plot_model\n",
        "from tensorflow.keras import backend as K\n",
        "\n",
        "import matplotlib.pyplot as plt\n",
        "%matplotlib inline\n",
        "\n",
        "np.set_printoptions(precision=2,suppress=True)"
      ]
    },
    {
      "cell_type": "markdown",
      "metadata": {
        "id": "55xMnve6d8UW"
      },
      "source": [
        "download font type needed to write to the image\n",
        "\n",
        "you can change this to another font type of your liking"
      ]
    },
    {
      "cell_type": "code",
      "execution_count": 3,
      "metadata": {
        "id": "hxLm6nSHd1yo"
      },
      "outputs": [],
      "source": [
        "!wget -O 'font.ttf' 'http://webpagepublicity.com/free-fonts/x/Xerox%20Sans%20Serif%20Narrow.ttf' -q"
      ]
    },
    {
      "cell_type": "markdown",
      "metadata": {
        "id": "kVIp10traRtK"
      },
      "source": [
        "---\n",
        "## 2 - Turn off Eager Execution\n",
        "\n",
        "Since this simplified version is using old Keras backend, when using TensorFlow 2.0 we need to turn off the Eager execution\n",
        "\n",
        "to do that run the following cell"
      ]
    },
    {
      "cell_type": "code",
      "execution_count": 4,
      "metadata": {
        "cellView": "both",
        "id": "5silAgzHL4D-"
      },
      "outputs": [],
      "source": [
        "tf.compat.v1.disable_eager_execution()"
      ]
    },
    {
      "cell_type": "markdown",
      "metadata": {
        "id": "qpeMsOz1f4te"
      },
      "source": [
        "---\n",
        "---\n",
        "#[Part 1] Detection Dataset\n",
        "\n",
        "Now the Detection Dataset is usually quite expensive to build, and the already existing datasets are usually quite large in scale. Which is too much for our simplified exercise\n",
        "\n",
        "So let's generate a simplified dataset which is only images of string labels simulating the obects much like the image below\n",
        "\n",
        "<center>\n",
        "<img src='https://i.ibb.co/DbqcTtV/detection-data.png'>\n",
        "</center>\n",
        "\n",
        "This way we can generate a detection dataset with much cheaper process"
      ]
    },
    {
      "cell_type": "markdown",
      "metadata": {
        "id": "rWy1Vg7itF2j"
      },
      "source": [
        "---\n",
        "## 1 - Define Class and Color\n",
        "\n",
        "Now let's define the class and color\n",
        "\n",
        "First, define each object label in `cl_label` list. You can change the label or even add more class if you want.\n",
        "\n",
        "**But the last labes should always be `'background'`**\n",
        "\n",
        "<br>\n",
        "\n",
        "Then define what color you want the label to be drawn on the image. You can very much use black and white images, but the network will train easier if the color vary for each class\n",
        "\n",
        "Also define the background image color outside the `cl_color` list\n"
      ]
    },
    {
      "cell_type": "markdown",
      "metadata": {
        "id": "xc2RyhhXUYMU"
      },
      "source": [
        "---\n",
        "#### <font color='red'>**EXERCISE:** </font>\n",
        "\n",
        "change or add the labels and their corresponding color\n"
      ]
    },
    {
      "cell_type": "code",
      "execution_count": 5,
      "metadata": {
        "id": "t1ziGn2jMEhB"
      },
      "outputs": [],
      "source": [
        "cl_label = ['bike',    'person',    'background']\n",
        "cl_color = ['darkred', 'orangered', '']\n",
        "cl_hot   = to_categorical(np.arange(len(cl_label)))\n",
        "\n",
        "bg_color = 'LightGray'\n",
        "\n",
        "classes  = list(zip(cl_label, cl_hot, cl_color))\n",
        "nb_class = len(classes)"
      ]
    },
    {
      "cell_type": "markdown",
      "metadata": {
        "id": "hdkzbR7Kg-9p"
      },
      "source": [
        "let's see the class list"
      ]
    },
    {
      "cell_type": "code",
      "execution_count": 6,
      "metadata": {
        "colab": {
          "base_uri": "https://localhost:8080/"
        },
        "id": "lQpnCc_VbDlF",
        "outputId": "95a17f5f-d67a-4e60-95c5-42fa95bd1289"
      },
      "outputs": [
        {
          "output_type": "stream",
          "name": "stdout",
          "text": [
            "number of class: 3\n",
            "('bike', array([1., 0., 0.], dtype=float32), 'darkred')\n",
            "('person', array([0., 1., 0.], dtype=float32), 'orangered')\n",
            "('background', array([0., 0., 1.], dtype=float32), '')\n"
          ]
        }
      ],
      "source": [
        "print('number of class:',nb_class)\n",
        "\n",
        "for c in classes:\n",
        "    print(c)"
      ]
    },
    {
      "cell_type": "markdown",
      "metadata": {
        "id": "v-BuY4KUkaro"
      },
      "source": [
        "**EXPECTED OUTPUT**:\n",
        "\n",
        "if you're using default $3$ classes\n",
        "\n",
        "<pre>\n",
        "number of class: 3\n",
        "('bike', array([1., 0., 0.], dtype=float32), 'darkred')\n",
        "('person', array([0., 1., 0.], dtype=float32), 'orangered')\n",
        "('background', array([0., 0., 1.], dtype=float32), '')"
      ]
    },
    {
      "cell_type": "markdown",
      "metadata": {
        "id": "NJybLMrLtJFe"
      },
      "source": [
        "---\n",
        "## 2 - Define Image and Grid Size\n",
        "In the actual YOLO Detection system, it divides the input image into an $S\\times S$ grid.\n",
        "Each grid cell predicts only one object and it incorporates a fixed number of boundary boxes called **anchors** or **priors**.\n",
        "\n",
        "<br>\n",
        "<center>\n",
        "<img src='https://miro.medium.com/max/667/1*4Y1PaY3ZgxKt5w84_0pNxw.jpeg' width=350>\n",
        "</center>\n",
        "\n",
        "The number anchors are defined by the shape of the bounding boxes. This tries to incorporate that in the real-life domain, the boundary boxes are not arbitrary.\n",
        "\n",
        "<br>\n",
        "<center>\n",
        "<img src='https://miro.medium.com/max/504/1*8Q8r9ixjTiKLi1mrF36xCw.jpeg' width=400>\n",
        "</center>\n",
        "\n",
        "For example, cars and pedestrians have different box orientation (aspect ratio). Instead of predicting 5 arbitrary boundary boxes, we predict offsets to each of the constrained anchor boxes\n"
      ]
    },
    {
      "cell_type": "markdown",
      "metadata": {
        "id": "4gxgEficHSjl"
      },
      "source": [
        "\n",
        "\n",
        "---\n",
        "\n",
        "\n",
        "The more cells the image is divided to increase the detection accuracy as it will be more detailed. But too much cells and the detection will slow down.\n",
        "\n",
        "For this exercise, we will use only one anchor.\n",
        "\n",
        "The implementation in this exercise actually support multiple anchors, but we're not going to use it.\n",
        "\n",
        "You can, however, change the image size and grid number. For example changing it to $96\\times 96$ with $3\\times 3$ grid"
      ]
    },
    {
      "cell_type": "markdown",
      "metadata": {
        "id": "pVbOy4Kuc5FL"
      },
      "source": [
        "---\n",
        "#### <font color='red'>**EXERCISE:** </font>\n",
        "\n",
        "Define the image size and grid size"
      ]
    },
    {
      "cell_type": "code",
      "execution_count": 7,
      "metadata": {
        "id": "9V36MjP_n529"
      },
      "outputs": [],
      "source": [
        "img_size  = (64, 64)\n",
        "grid_size = (2, 2)"
      ]
    },
    {
      "cell_type": "markdown",
      "metadata": {
        "id": "wkPhKj9nnIZr"
      },
      "source": [
        "for this exercise, we only use 1 anchor"
      ]
    },
    {
      "cell_type": "code",
      "execution_count": 8,
      "metadata": {
        "id": "49wSeIzmtRT5"
      },
      "outputs": [],
      "source": [
        "nb_anchor = 1"
      ]
    },
    {
      "cell_type": "markdown",
      "metadata": {
        "id": "Vm71A8cNnFX6"
      },
      "source": [
        "Now calculate the cell size in each grid"
      ]
    },
    {
      "cell_type": "code",
      "execution_count": 9,
      "metadata": {
        "id": "XnC2-DmfNGSo"
      },
      "outputs": [],
      "source": [
        "img_w,  img_h  = img_size\n",
        "grid_w, grid_h = grid_size\n",
        "\n",
        "cell_w = img_w//grid_w\n",
        "cell_h = img_h//grid_h"
      ]
    },
    {
      "cell_type": "code",
      "execution_count": 10,
      "metadata": {
        "colab": {
          "base_uri": "https://localhost:8080/"
        },
        "id": "gKUVykEXkoZD",
        "outputId": "46d7d6b9-5a88-4779-c0bc-3f4c0444c200"
      },
      "outputs": [
        {
          "output_type": "stream",
          "name": "stdout",
          "text": [
            "image w/h : 64 64\n",
            "grid w/h  : 2 2\n",
            "cell w/h  : 32 32\n"
          ]
        }
      ],
      "source": [
        "print('image w/h :', img_w, img_h)\n",
        "print('grid w/h  :', grid_w, grid_h)\n",
        "print('cell w/h  :', cell_w, cell_h)"
      ]
    },
    {
      "cell_type": "markdown",
      "metadata": {
        "id": "zuH4kjgWkk7h"
      },
      "source": [
        "**EXPECTED OUTPUT**:\n",
        "\n",
        "if you're using default $64\\times 64$ image with $2\\times 2$ grid\n",
        "\n",
        "<pre>\n",
        "image w/h : 64 64\n",
        "grid w/h  : 2 2\n",
        "cell w/h  : 32 32"
      ]
    },
    {
      "cell_type": "markdown",
      "metadata": {
        "id": "KsRyQkfPuY7B"
      },
      "source": [
        "---\n",
        "## 3 - Detection Target\n",
        "\n",
        "This is how we will generate our dataset.\n",
        "\n",
        "<font size=5 color='red'>**So read this carefully**</font>\n",
        "\n",
        "<br>\n",
        "\n",
        "* First we start off with a **blank image**\n",
        "\n",
        "* For each grid cell, we randomly add either <font color='blue'>**ONE**</font> object or <font color='blue'>**BACKGROUND** </font>\n",
        "  * Adding background means that there is no object to draw in that grid\n",
        "\n",
        "  * If it is an object, randomly draw the object in that grid range\n",
        "  * Generate the target list\n",
        "* Each grid cell returns a list as the **cell target**\n",
        "* All lists of cell targets of an image are then combined into the **image target** list\n",
        "\n",
        "<br>\n",
        "\n",
        "Now for the explanation of each list"
      ]
    },
    {
      "cell_type": "markdown",
      "metadata": {
        "id": "IXQjK8stwT5I"
      },
      "source": [
        "---\n",
        "### a. Cell Target\n",
        "\n",
        "Each cell has a list of number as target consisting three parts: <br>**class score**, **bounding box**, and **object confidence**\n",
        "\n",
        "\n",
        "<center>\n",
        "<img src='https://i.ibb.co/BLN90ML/anchor.png' ><br><caption>grid target list</caption>\n",
        "</center>\n",
        "\n",
        "<br>\n",
        "\n",
        "* The **class score** is one-hot label score very much like classification target, indicates what object classified in that cell location.\n",
        "\n",
        "\n",
        "* The **bounding box** consists of $4$ values indicates the starting position ($x, y$ coordinates) followed by its box **width** and **height** ($w, h$)\n",
        "  * The $x$ and $y$ is a scalar ranged from $0$ to number of grid $S$\n",
        "  * The $w$ and $h$ is a scalar ranged from $0$ to $1$ scaling the **image width** and **image height**\n",
        "\n",
        "* The **object confidence** score is a value range from $0$ to $1$ indicates the network confidance of the appearance of an object in that location\n",
        "\n",
        "\n",
        "<br>\n",
        "\n",
        "The length of cell target is&nbsp; $C+4+1$, where&nbsp; $C$ &nbsp;is the number of object to be detected. Usually background is not included in label, but for our exercise we did.\n",
        "\n",
        "Thus for this exercise, with $3$ classes, the length of target should be&nbsp; $3+4+1=8$"
      ]
    },
    {
      "cell_type": "markdown",
      "metadata": {
        "id": "5Q6Ib1R1wWwY"
      },
      "source": [
        "---\n",
        "### b. Multiple Anchors\n",
        "\n",
        "As mentioned before, we can use multiple anchor box detection. This is useful if we want to detect multiple objects in one cell, or if we want to specialize different box shape for different class.\n",
        "\n",
        "<center><img src='https://i.ibb.co/gm871y9/anchor2.jpg'><br><caption>anchor box</caption></center>\n",
        "\n",
        "For multiple Anchors, the target list will be multiplied as many achors used\n",
        "\n",
        "So the length will be&nbsp; $B*(C+4+1)$, where&nbsp; $C$ &nbsp;is the number of class and&nbsp; $B$ &nbsp;is the number of anchor\n",
        "\n",
        "<center><img src='https://i.ibb.co/XkX3KS8/multi-anchors.png'><br><caption>grid target list (version A)</caption></center>\n",
        "\n",
        "<br>\n",
        "\n",
        "Another variation in multiple anchor box (**like the one implemented in this exercise**) is that although it uses multiple anchor, each grid only perform **single detection**.\n",
        "\n",
        "Thus the &nbsp;$C$&nbsp; number of class only defined once at the beginning.\n",
        "So the length will only be&nbsp; $C + B*(4+1)$\n",
        "\n",
        "<br>\n",
        "\n",
        "<center><img src='https://i.ibb.co/JxzrskB/anchor3.png'></img><br>\n",
        "<caption>grid target list (version B)</caption></center>\n"
      ]
    },
    {
      "cell_type": "markdown",
      "metadata": {
        "id": "Eboaa0WENltM"
      },
      "source": [
        "---\n",
        "### c. Image Target\n",
        "\n",
        "Each grid cell has a list $B*(C+4+1)$. Now for an input image of $S\\times S$ grid cell, we stack all those lists into a giant image target list\n",
        "\n",
        "So the target length of an image is $S*S*\\big(B*(C+4+1)\\big)$\n",
        "\n",
        "<br>\n",
        "\n",
        "Or if we use the other alternative, like the image below, we will get list with the length of\n",
        "$S*S*\\big(C+B*(4+1)\\big)$\n",
        "\n",
        "\n",
        "<center>\n",
        "<img src='https://miro.medium.com/max/2113/1*OuMJUWo2rXYA-GYU63NUGw.jpeg' width=600>\n",
        "</center>"
      ]
    },
    {
      "cell_type": "markdown",
      "metadata": {
        "id": "iNwysNSctrWL"
      },
      "source": [
        "---\n",
        "## 4 - Add Background Function\n",
        "\n",
        "If in a grid, indicates by `row` and `col` position, we want to add a background target (no object), then all we have to do is generate a target in the center of that grid cell\n",
        "\n",
        "<center>\n",
        "<img src='https://i.ibb.co/D5hMN5f/grid-bg.png' width=300><br><caption>add background at $(1,0)$\n",
        "</center>\n",
        "\n",
        "For example, <br>if we have a background in grid $( 1, 0)$ from a $2\\times 2$ &nbsp;grid as depicted above, then\n",
        "* the target $x$ will be at $1.5$\n",
        "($\\text{col}+\\frac{1}{2}$  )\n",
        "\n",
        "* the target $y$ will be at $0.5$\n",
        "($\\text{row}+\\frac{1}{2}$  )\n",
        "\n",
        "* the width $w$ and height $h$ will be $0.5$ and $0.5$ <br>\n",
        "(half the image, since it's $2\\times 2$ grid)\n",
        "\n",
        "* lastly, the object confidence is $0$"
      ]
    },
    {
      "cell_type": "markdown",
      "metadata": {
        "id": "Qnd0hKc8c7Dg"
      },
      "source": [
        "---\n",
        "#### <font color='red'>**EXERCISE:** </font>\n",
        "\n",
        "Implement the function as defined above\n"
      ]
    },
    {
      "cell_type": "code",
      "execution_count": 11,
      "metadata": {
        "id": "b8m7W0PfRIK8"
      },
      "outputs": [],
      "source": [
        "def add_background(y_hot, col, row):\n",
        "\n",
        "    # convert y_hot vector\n",
        "    # from array float into a list of integers\n",
        "    y_hot = list(y_hot.astype('int'))\n",
        "\n",
        "    # calculate bounding box\n",
        "    x = col + 0.5    # col number + 1/2\n",
        "    y = row +0.5    # row number + 1/2\n",
        "    w = 1   # 1 / grid width\n",
        "    h = 1    # 1 / grid height\n",
        "    p = 0    # probability is 0\n",
        "\n",
        "    # combine all into a single list\n",
        "    target = []\n",
        "    target += y_hot\n",
        "    target += [x, y, w, h]\n",
        "    target += [0]\n",
        "\n",
        "    return target\n"
      ]
    },
    {
      "cell_type": "markdown",
      "metadata": {
        "id": "t6j1dF8RfAHi"
      },
      "source": [
        "Check your implementation"
      ]
    },
    {
      "cell_type": "code",
      "execution_count": 12,
      "metadata": {
        "colab": {
          "base_uri": "https://localhost:8080/"
        },
        "id": "shITwbwqRUIu",
        "outputId": "5411ef49-dc9b-449d-8dfe-4c5c1182f123"
      },
      "outputs": [
        {
          "output_type": "stream",
          "name": "stdout",
          "text": [
            "background at (0,0):\n",
            "tarhet : [0, 0, 1, 0.5, 0.5, 1, 1, 0]\n",
            "len(t) : 8 \n",
            "\n",
            "background at (1,0):\n",
            "tarhet : [0, 0, 1, 1.5, 0.5, 1, 1, 0]\n",
            "len(t) : 8 \n",
            "\n"
          ]
        }
      ],
      "source": [
        "(l, y, c) = classes[-1]\n",
        "\n",
        "print('background at (0,0):')\n",
        "t = add_background(y, 0, 0)\n",
        "print('tarhet :', t)\n",
        "print('len(t) :', len(t), '\\n')\n",
        "\n",
        "\n",
        "print('background at (1,0):')\n",
        "t = add_background(y, 1, 0)\n",
        "print('tarhet :', t)\n",
        "print('len(t) :', len(t), '\\n')"
      ]
    },
    {
      "cell_type": "markdown",
      "metadata": {
        "id": "EWNgmOhYiToK"
      },
      "source": [
        "**EXPECTED OUTPUT**:\n",
        "\n",
        "if you're using default $3$ classes\n",
        "<pre>\n",
        "  background at (0,0):\n",
        "  tarhet : [0, 0, 1, 0.5, 0.5, 0.5, 0.5, 0]\n",
        "  len(t) : 8\n",
        "\n",
        "  background at (1,0):\n",
        "  tarhet : [0, 0, 1, 1.5, 0.5, 0.5, 0.5, 0]\n",
        "  len(t) : 8\n"
      ]
    },
    {
      "cell_type": "markdown",
      "metadata": {
        "id": "hePHU_UNjkZi"
      },
      "source": [
        "---\n",
        "## 5 - Add Object Function\n",
        "\n",
        "Then if we want to add an object sized &nbsp; $[w_\\text{obj}\\times h_\\text{obj}]$  &nbsp;to the image at **CENTER** coordinate of $(x, y)$, <br>we need to draw the bounding box from half $w_\\text{obj}$ up and half $h_\\text{obj}$ left to the coordinate\n",
        "\n",
        "<center>\n",
        "<img src='https://i.ibb.co/z2X1jc6/grid-obj.png' width=300>\n",
        "</center>\n",
        "\n",
        "For example as shown in the picture, if we were to add  \n",
        "* an object sized $[24\\times 10]$\n",
        "\n",
        "* to an image sized $[64\\times 64]$ with $[2\\times 2]$ grid frame\n",
        "* at a **CENTER** coordinate of $x=20$ and $y=40$\n",
        "<br>\n",
        "\n",
        "Then the object **STARTING** coordinate to draw is\n",
        "* $x_\\text{obj} = 20-\\frac{24}{2} = 8$\n",
        "\n",
        "* $y_\\text{obj} = 40-\\frac{10}{2} = 35$\n",
        "<br>\n",
        "\n",
        "Now to get the target, we need to scale it accordingly, thus we get\n",
        "* $x = 20/32 = 0.625$\n",
        "\n",
        "* $y = 40/32 = 1.25$\n",
        "* $w = 24/64 = 0.375$\n",
        "* $h = 10/64 = 0.156$\n",
        "\n",
        "Lastly, the object confidence is $1$"
      ]
    },
    {
      "cell_type": "markdown",
      "metadata": {
        "id": "GsX4f8mhc7gj"
      },
      "source": [
        "---\n",
        "#### <font color='red'>**EXERCISE:** </font>\n",
        "\n",
        "Implement the function as defined above\n"
      ]
    },
    {
      "cell_type": "code",
      "execution_count": 13,
      "metadata": {
        "id": "Nb6boAoWRj8Z"
      },
      "outputs": [],
      "source": [
        "def add_object(img_draw, obj_idx, x, y, cell_w, cell_h, img_width, img_height):\n",
        "\n",
        "    # retrieve the object information\n",
        "    (label, y_hot, color) = classes[obj_idx]\n",
        "\n",
        "    # convert y_hot vector\n",
        "    # from array float into a list of integers\n",
        "    # see implementation above\n",
        "    y_hot = list(y_hot.astype('int'))\n",
        "\n",
        "    # set object width and height\n",
        "    obj_w = len(label)*6\n",
        "    obj_h = 10\n",
        "\n",
        "    # calculate object coordinates\n",
        "    obj_x = x * cell_w - obj_w / 2   # x - object width / 2\n",
        "    obj_y = y * cell_h - obj_h / 2   # y - object height / 2\n",
        "\n",
        "    # draw the object (label) to image\n",
        "    img_draw.text((obj_x, obj_y), label, fill=color)\n",
        "\n",
        "    # calculate bounding box\n",
        "    x = x / img_w    # x / cell width\n",
        "    y = y / img_h    # y / cell height\n",
        "    w = obj_w / img_w    # object width / image width\n",
        "    h = obj_h / img_h    # object height / image height\n",
        "    p = 1    # probability is 1\n",
        "\n",
        "    # combine all into a single list\n",
        "    target = []\n",
        "    target += y_hot\n",
        "    target += [x, y, w, h]\n",
        "    target += [1]\n",
        "\n",
        "    return target\n"
      ]
    },
    {
      "cell_type": "markdown",
      "metadata": {
        "id": "L9t3AIByoQXo"
      },
      "source": [
        "Check your implementation"
      ]
    },
    {
      "cell_type": "code",
      "execution_count": 14,
      "metadata": {
        "colab": {
          "base_uri": "https://localhost:8080/",
          "height": 423
        },
        "id": "kCeZKuUHSUqA",
        "outputId": "df62fc2d-b8c0-4673-9073-e1c653c10e4f"
      },
      "outputs": [
        {
          "output_type": "display_data",
          "data": {
            "text/plain": [
              "<Figure size 640x480 with 1 Axes>"
            ],
            "image/png": "[encoded data removed]"
          },
          "metadata": {}
        },
        {
          "output_type": "stream",
          "name": "stdout",
          "text": [
            "target: [1, 0, 0, 0.3125, 0.625, 0.375, 0.15625, 1]\n"
          ]
        }
      ],
      "source": [
        "test_img = Image.new('RGB', img_size, color=bg_color)\n",
        "draw = ImageDraw.Draw(test_img)\n",
        "x = 20\n",
        "y = 40\n",
        "\n",
        "target = add_object(draw, 0, x, y, cell_w, cell_h, img_size[0], img_size[1])\n",
        "\n",
        "plt.imshow(test_img)\n",
        "plt.axis('off')\n",
        "plt.show()\n",
        "\n",
        "print('target:',target)\n"
      ]
    },
    {
      "cell_type": "markdown",
      "metadata": {
        "id": "tX-a535JlFqD"
      },
      "source": [
        "**EXPECTED OUTPUT**:\n",
        "\n",
        "if you're using default $3$ classes with $64\\times 64$ image with $2\\times 2$ grid\n",
        "\n",
        "<pre>\n",
        "<img src='https://i.ibb.co/hR3CMc9/add-obj.png' width=150>\n",
        "target: [1, 0, 0, 0.625, 1.25, 0.375, 0.15625, 1]"
      ]
    },
    {
      "cell_type": "markdown",
      "metadata": {
        "id": "ggL-bcdBjk6a"
      },
      "source": [
        "---\n",
        "## 6 - Generate Data Function\n",
        "\n",
        "Now we define our generate data function which repeatedly randomize an object and put it into each grid of an image.\n",
        "\n",
        "If the randomized object is `background`, call `add_background()` function, and\n",
        "if it is an object, randomize the center location, and call `add_object()` function"
      ]
    },
    {
      "cell_type": "markdown",
      "metadata": {
        "id": "ZRUWq7d4c8UR"
      },
      "source": [
        "---\n",
        "#### <font color='red'>**EXERCISE:** </font>\n",
        "\n",
        "Implement the function as defined above\n"
      ]
    },
    {
      "cell_type": "code",
      "execution_count": 15,
      "metadata": {
        "id": "2wNww5BAOAkb"
      },
      "outputs": [],
      "source": [
        "def generate_data(nb_data):\n",
        "\n",
        "    # create empty list for data and label\n",
        "    x_train = []\n",
        "    y_train = []\n",
        "\n",
        "    for j in range(0, nb_data):\n",
        "\n",
        "        # generate empty image base\n",
        "        base_img = Image.new('RGB', img_size, color=bg_color)\n",
        "        img_draw = ImageDraw.Draw(base_img)\n",
        "\n",
        "        # create empty list for targets\n",
        "        img_target = []\n",
        "\n",
        "        # loop over all grid (row and col)\n",
        "        for row in range(grid_w):\n",
        "\n",
        "            for col in range(grid_h):\n",
        "\n",
        "                # randomize object id\n",
        "                # call .randint() function from numpy\n",
        "                # with random range (0 , nb_class)\n",
        "                idx = np.random.randint(0, nb_class)\n",
        "\n",
        "                # get class information\n",
        "                (label, y_hot, color) = classes[idx]\n",
        "\n",
        "                # check if it's a background\n",
        "                if(label=='background'):\n",
        "\n",
        "                    # call add_background() funtion with input y_hot, col, and row\n",
        "                    new_target = add_background(y_hot, col, row)\n",
        "\n",
        "                else:\n",
        "                    # randomize coordinate center location\n",
        "                    # call .randint() function from numpy\n",
        "                    # with random range (col*cell_w , (col+1)*cell_w)\n",
        "                    x = np.random.randint(col * cell_w, (col + 1) * cell_w)\n",
        "\n",
        "                    # call .randint() function from numpy\n",
        "                    # with random range (row*cell_h , (row+1)*cell_h)\n",
        "                    y = np.random.randint(row * cell_h, (row + 1) * cell_h)\n",
        "\n",
        "                    # call add_object() function with input img_draw, idx, x, and y\n",
        "                    new_target = add_object(img_draw, idx, x, y, cell_w, cell_h, img_size[0], img_size[1])\n",
        "\n",
        "                # append new_target into img_target list\n",
        "                img_target.append(new_target)\n",
        "\n",
        "        # convert base_img into a numpy array\n",
        "        np_img = np.array(base_img)\n",
        "\n",
        "        # append np_img into x_train list\n",
        "        x_train.append(np_img)\n",
        "\n",
        "        # append img_target into y_train list\n",
        "        y_train.append(img_target)\n",
        "\n",
        "    # convert into numpy array\n",
        "    x_train = np.array(x_train).astype('float32')/255\n",
        "    y_train = np.array(y_train).astype('float32')\n",
        "\n",
        "    return x_train, y_train"
      ]
    },
    {
      "cell_type": "markdown",
      "metadata": {
        "id": "bKGJDYxklNRp"
      },
      "source": [
        "---\n",
        "## 7 - Generate Data\n",
        "\n",
        "And that's it\n",
        "\n",
        "Now let's generate $5000$ training data and another $1000$ as validation data"
      ]
    },
    {
      "cell_type": "code",
      "execution_count": 16,
      "metadata": {
        "colab": {
          "base_uri": "https://localhost:8080/"
        },
        "id": "rBGRo2kItth3",
        "outputId": "62dd8b36-8f74-40cc-ca3c-14d0d7343a52"
      },
      "outputs": [
        {
          "output_type": "stream",
          "name": "stdout",
          "text": [
            "x_train shape: (5000, 64, 64, 3)\n",
            "y_train shape: (5000, 4, 8)\n"
          ]
        }
      ],
      "source": [
        "x_train, y_train = generate_data(5000)\n",
        "x_val, y_val     = generate_data(1000)\n",
        "\n",
        "print('x_train shape:', x_train.shape)\n",
        "print('y_train shape:', y_train.shape)"
      ]
    },
    {
      "cell_type": "markdown",
      "metadata": {
        "id": "ePrICIbvl0Xn"
      },
      "source": [
        "**EXPECTED OUTPUT**:\n",
        "\n",
        "if you're using default $3$ classes $64\\times 64$ image with $2\\times 2$ grid\n",
        "\n",
        "<pre>\n",
        "x_train shape: (5000, 64, 64, 3)\n",
        "y_train shape: (5000, 4, 8)"
      ]
    },
    {
      "cell_type": "markdown",
      "metadata": {
        "id": "Pl3rIEYgH1ZX"
      },
      "source": [
        "Let's view the first image from training set and its target"
      ]
    },
    {
      "cell_type": "code",
      "execution_count": 17,
      "metadata": {
        "colab": {
          "base_uri": "https://localhost:8080/",
          "height": 475
        },
        "id": "MQMmnkt-aYpi",
        "outputId": "38de7be4-1bcc-44fe-cdfc-dfd8c67761bb"
      },
      "outputs": [
        {
          "output_type": "display_data",
          "data": {
            "text/plain": [
              "<Figure size 640x480 with 1 Axes>"
            ],
            "image/png": "[encoded data removed]"
          },
          "metadata": {}
        },
        {
          "output_type": "stream",
          "name": "stdout",
          "text": [
            "[0.  0.  1.  0.5 0.5 1.  1.  0. ]\n",
            "[0.   1.   0.   0.88 0.41 0.56 0.16 1.  ]\n",
            "[0.  0.  1.  0.5 1.5 1.  1.  0. ]\n",
            "[0.   1.   0.   0.66 0.62 0.56 0.16 1.  ]\n"
          ]
        }
      ],
      "source": [
        "plt.imshow(x_train[0])\n",
        "plt.axis('off')\n",
        "plt.show()\n",
        "\n",
        "for tgt in y_train[0]:\n",
        "    print(tgt)\n"
      ]
    },
    {
      "cell_type": "markdown",
      "metadata": {
        "id": "sijlJDOMIAOH"
      },
      "source": [
        "Now view 10 images from training set\n",
        "\n",
        "You should see various images with random number of objects at random locations"
      ]
    },
    {
      "cell_type": "code",
      "execution_count": 18,
      "metadata": {
        "colab": {
          "base_uri": "https://localhost:8080/",
          "height": 319
        },
        "id": "Y3XKGijpoONF",
        "outputId": "87c6f0c8-7252-4c59-8a9a-e3444e150cd0"
      },
      "outputs": [
        {
          "output_type": "display_data",
          "data": {
            "text/plain": [
              "<Figure size 1000x600 with 10 Axes>"
            ],
            "image/png": "[encoded data removed]"
          },
          "metadata": {}
        }
      ],
      "source": [
        "plt.figure(figsize=(10,6))\n",
        "for i in range(10):\n",
        "    plt.subplot(2,5,i+1)\n",
        "    plt.imshow(x_train[i])\n",
        "    plt.axis('off')\n",
        "plt.tight_layout()\n",
        "plt.show()"
      ]
    },
    {
      "cell_type": "markdown",
      "metadata": {
        "id": "d4isshOdlZIR"
      },
      "source": [
        "---\n",
        "---\n",
        "#[Part 2] Visualizing Detection Box\n",
        "\n",
        "Now let's create a function to draw the bounding box to an image.\n",
        "\n",
        "**REMEMBER** that we're using target list design where each grid consist of a list with length $C + B*(4+1)$\n",
        "\n",
        "<center><img src='https://i.ibb.co/JxzrskB/anchor3.png'></center>"
      ]
    },
    {
      "cell_type": "markdown",
      "metadata": {
        "id": "2uZvUOYxle_g"
      },
      "source": [
        "---\n",
        "## 1 - Box Grid Function\n",
        "\n",
        "Given an image, the target `y_grid`, along with `col` and `row` number for current grid location, we draw the bounding box as follow:\n",
        "\n",
        "* First, extract the class from `y_grid` and get the class index\n",
        "\n",
        "* Then reshape the rest of `y_grid` into a matrix of `(nb_anchor, 5)`\n",
        "* Then loop over each anchor box\n",
        " * Extract the $x, y, w, h, $ and $p$ from the anchor\n",
        "\n",
        " * The $x$ and $y$ from prediction is in range $0$ to $1$ as the result from the grid input, and not the image. <br>So to draw the prediction box, we need to add $x$ and $y$ with `row` and `col` number\n",
        " * Now to perform a simplified **Non-max Suppression**, check if confidence $p$ is higher than `max_p` from other anchor\n",
        " * If the current confidence $p$ is higher, calculate and overwrite the bounding box coordinates\n",
        " * Now, it's a little bit different when we draw the rectangle as it uses $[x1,y1,x2,y2]$ rather than using **width** and **height**\n",
        " * Set color to draw the box. <br>For example, target box is <font color=DarkGray>**gray**</font>, high confidence prediction is  <font color=LimeGreen>**green**</font>, and low confidence prediction is  <font color=RoyalBlue>**blue**</font>\n",
        " * If the class is not background, draw the box"
      ]
    },
    {
      "cell_type": "markdown",
      "metadata": {
        "id": "EvJaqFlDc-RB"
      },
      "source": [
        "---\n",
        "#### <font color='red'>**EXERCISE:** </font>\n",
        "\n",
        "Implement the function as defined above\n"
      ]
    },
    {
      "cell_type": "code",
      "execution_count": 19,
      "metadata": {
        "id": "X_aVC2Vnuokv"
      },
      "outputs": [],
      "source": [
        "def draw_box_grid(draw, y_grid, row=0, col=0, pad=0, is_prediction=False, threshold  = 0.1):\n",
        "\n",
        "    # initialize max probability = 0\n",
        "    max_p   = 0\n",
        "\n",
        "    # get class from y_grid[0:nb_class]\n",
        "    y_class = y_grid[:nb_class]\n",
        "\n",
        "    # get class id, use np.argmax() with input y_class\n",
        "    y_pred  = np.argmax(y_class)\n",
        "\n",
        "    # reshape the rest of anchor list into (nb_anchor, 5)\n",
        "    anchor_box = y_grid[nb_class:].reshape(nb_anchor, 5)\n",
        "\n",
        "    # loop over anchor box\n",
        "    for b in anchor_box:\n",
        "\n",
        "        # retrieve x, y, w, h and p\n",
        "        # from b[0] to b[4]\n",
        "        x = b[0]\n",
        "        y = b[1]\n",
        "        w = b[2]\n",
        "        h = b[3]\n",
        "        p = b[4]\n",
        "\n",
        "        # add row number to x\n",
        "        x += row\n",
        "        # add col number to y\n",
        "        y += col\n",
        "\n",
        "        # if current probability is higher than max\n",
        "        if p > max_p:\n",
        "            max_p = p\n",
        "            rx1   = int(x * cell_w - w * img_size[0] / 2 + pad)  # x*cell width - w*image width/2 + pad\n",
        "            ry1   = int(y * cell_h - h * img_size[1] / 2 + pad)  # y*cell height - h*image height/2 + pad\n",
        "            rx2   = int(w * img_size[0] + rx1)  # w*image width + rx1\n",
        "            ry2   = int(h * img_size[1] + ry1)  # h*image height + ry1\n",
        "\n",
        "    # is object if probability is higher than threshold\n",
        "    is_object = p > threshold\n",
        "\n",
        "    # set color box\n",
        "    if is_prediction:\n",
        "        if is_object:\n",
        "            box_color = 'LimeGreen'\n",
        "        else:\n",
        "            box_color = 'RoyalBlue'\n",
        "    else:\n",
        "        box_color = 'DarkGray'\n",
        "\n",
        "    # if class is not background, draw the box\n",
        "    if y_pred!=nb_class-1:\n",
        "        draw.rectangle([rx1, ry1, rx2, ry2], outline=box_color)\n",
        "\n",
        "    return y_pred, is_object"
      ]
    },
    {
      "cell_type": "markdown",
      "metadata": {
        "id": "kpUa-HPboSQf"
      },
      "source": [
        "Check your implementation"
      ]
    },
    {
      "cell_type": "code",
      "execution_count": 20,
      "metadata": {
        "colab": {
          "base_uri": "https://localhost:8080/",
          "height": 297
        },
        "id": "Kwq0db_rmZL_",
        "outputId": "6d18e943-acfc-46e5-9984-22022ed30f08"
      },
      "outputs": [
        {
          "output_type": "stream",
          "name": "stdout",
          "text": [
            "original target [1, 0, 0, 0.3125, 0.625, 0.375, 0.15625, 1]\n"
          ]
        },
        {
          "output_type": "display_data",
          "data": {
            "text/plain": [
              "<Figure size 640x480 with 2 Axes>"
            ],
            "image/png": "[encoded data removed]"
          },
          "metadata": {}
        },
        {
          "output_type": "stream",
          "name": "stdout",
          "text": [
            "predicted: 0 , is object? True\n"
          ]
        }
      ],
      "source": [
        "test_img = Image.new('RGB', img_size, color=bg_color)\n",
        "draw = ImageDraw.Draw(test_img)\n",
        "x = 20\n",
        "y = 40\n",
        "\n",
        "target = add_object(draw, 0, x, y, cell_w, cell_h, img_size[0], img_size[1])\n",
        "plt.subplot(121)\n",
        "plt.imshow(test_img)\n",
        "plt.axis('off')\n",
        "\n",
        "print('original target',target)\n",
        "target = np.array(target)\n",
        "\n",
        "y_pred, is_object = draw_box_grid(draw, target, row=0, col=0, is_prediction=False)\n",
        "plt.subplot(122)\n",
        "plt.imshow(test_img)\n",
        "plt.axis('off')\n",
        "plt.show()\n",
        "print('predicted:',y_pred, ', is object?',is_object)"
      ]
    },
    {
      "cell_type": "markdown",
      "metadata": {
        "id": "Ep0RPaEBmcaH"
      },
      "source": [
        "**EXPECTED OUTPUT**:\n",
        "\n",
        "if you're using default $3$ classes $64\\times 64$ image with $2\\times 2$ grid\n",
        "\n",
        "<pre>original target [1, 0, 0, 0.625, 1.25, 0.375, 0.15625, 1]\n",
        "<img src='https://i.ibb.co/ByVjcF3/box-test.png' width=300>\n",
        "predicted: 0 , is object? True</pre>"
      ]
    },
    {
      "cell_type": "markdown",
      "metadata": {
        "id": "Nuh789MqLfGT"
      },
      "source": [
        "---\n",
        "## 2 - Draw Bounding Box Function\n",
        "\n",
        "Now we define function to iterate over grid and draw the bounding box in it.\n",
        "Here's step by step of this function\n",
        "* First we pad the image with zero pixels as a place to write the prediction class\n",
        "\n",
        "* Loop over the grid\n",
        " * Draw the target box\n",
        "\n",
        " * If prediction is provided, draw the prediction box\n",
        " * write the predicted class on top and bottom of the image<br> note that the code only designed for $2\\times 2$ grid\n",
        " * set the text color. <br>For example <font color='darkgreen'>**green**</font> if it's the correct class, <font color='deeppink'>**pink**</font> if it's wrong or having low confidence, <br>and **black** if prediction is not provided"
      ]
    },
    {
      "cell_type": "markdown",
      "metadata": {
        "id": "QQmiXYnndHh9"
      },
      "source": [
        "---\n",
        "#### <font color='red'>**EXERCISE:** </font>\n",
        "\n",
        "Implement the function as defined above\n"
      ]
    },
    {
      "cell_type": "code",
      "execution_count": 21,
      "metadata": {
        "id": "ehZEZUJOhto3"
      },
      "outputs": [],
      "source": [
        "def draw_bbox(np_img, target, prediction=None, pad=10, threshold=0.1):\n",
        "\n",
        "    # rescale np_img by multiplying it with 255\n",
        "    img = np_img * 255\n",
        "\n",
        "    # add white padding as a place to write class prediction\n",
        "    img = np.pad(img, ((pad,pad),(pad,pad), (0,0)), 'constant', constant_values=255)\n",
        "\n",
        "    # generate image\n",
        "    img      = Image.fromarray(img.astype('uint8'), 'RGB')\n",
        "    img_draw = ImageDraw.Draw(img)\n",
        "    font     = ImageFont.truetype(r'font.ttf', 10)\n",
        "\n",
        "    for row in range(grid_w):\n",
        "\n",
        "        for col in range(grid_h):\n",
        "\n",
        "            # get current target for this grid\n",
        "            target_grid = target[col*grid_h+row]\n",
        "\n",
        "            # call draw_box_grid() function with input img_draw, target_grid, and pad=pad\n",
        "            y_act,_ = draw_box_grid(img_draw, target_grid, row, col, pad=pad)\n",
        "\n",
        "            if prediction is not None:\n",
        "\n",
        "                # get current prediction for this grid\n",
        "                prediction_grid = prediction[col*grid_h+row]\n",
        "\n",
        "                # call draw_box_grid() function with input\n",
        "                # img_draw, prediction_grid, row, col,\n",
        "                # pad=pad, is_prediction=True, and threshold=threshold\n",
        "                y_pred, conf = draw_box_grid(img_draw, prediction_grid, row, col, pad=pad, is_prediction=True, threshold=threshold)\n",
        "\n",
        "                # set color for predicted class writing\n",
        "                if y_pred == y_act and conf:\n",
        "                    # correct detection\n",
        "                    fill = 'DarkGreen'\n",
        "                    s = str(y_act)+'-'+str(y_pred)\n",
        "                else:\n",
        "                    # wrong detection or low confidence\n",
        "                    fill = 'DeepPink'\n",
        "                    s = str(y_act)+'-'+str(y_pred)+' (?)'\n",
        "\n",
        "            else:\n",
        "                # drawing target\n",
        "                s = str(y_act)\n",
        "                fill = 'black'\n",
        "\n",
        "            # draw text class target/prediction\n",
        "            img_draw.text((row+row*cell_w+pad, col+img_h*col+1+col*8), s, fill=fill, font=font)\n",
        "\n",
        "    # convert img into a numpy array\n",
        "    img = np.array(img)\n",
        "\n",
        "    return img\n"
      ]
    },
    {
      "cell_type": "markdown",
      "metadata": {
        "id": "Dt9bs81aoSxP"
      },
      "source": [
        "Check your implementation\n",
        "\n",
        "You should see that the \"objects\" are correctly localized with its bounding boxes."
      ]
    },
    {
      "cell_type": "code",
      "execution_count": 22,
      "metadata": {
        "colab": {
          "base_uri": "https://localhost:8080/",
          "height": 304
        },
        "id": "Y1eEY83rS941",
        "outputId": "de5288c8-a1bc-40b4-a460-d4d3a1cd4b27"
      },
      "outputs": [
        {
          "output_type": "display_data",
          "data": {
            "text/plain": [
              "<Figure size 1500x800 with 10 Axes>"
            ],
            "image/png": "[encoded data removed]"
          },
          "metadata": {}
        }
      ],
      "source": [
        "plt.figure(figsize=(15,8))\n",
        "for i in range(10):\n",
        "    img = draw_bbox(x_train[i], y_train[i])\n",
        "    plt.subplot(2,5,i+1)\n",
        "    plt.imshow(img)\n",
        "    plt.axis('off')\n",
        "plt.tight_layout()\n",
        "plt.show()"
      ]
    },
    {
      "cell_type": "markdown",
      "metadata": {
        "id": "p-ReETgxLn2r"
      },
      "source": [
        "---\n",
        "---\n",
        "#[Part 3] YOLO Detection\n",
        "\n",
        "And we're arrive at the main function, the YOLO Detection itself\n",
        "\n",
        "<center>\n",
        "<img src='https://miro.medium.com/max/804/1*jtnrhMFNwGxiQmkY6LkdCQ.jpeg'>\n",
        "</center>\n",
        "\n",
        "\n",
        "First we define our classification model. The original YOLO network consists of $24$ convolutional layers alternating between $3\\times 3$ convolution and $1\\times 1$ bottleneck layers to reduce the features space from preceding layers, followed by $2$ FC layers from a $448\\times 448$ image input. But for our simple exercise, we won't need that big network.\n",
        "\n",
        "So let's define our own"
      ]
    },
    {
      "cell_type": "markdown",
      "metadata": {
        "id": "Vu2pod4dLrQO"
      },
      "source": [
        "---\n",
        "## 1 - Define Input Shape\n",
        "\n",
        "Use Functional API to build the model.\n"
      ]
    },
    {
      "cell_type": "markdown",
      "metadata": {
        "id": "82UWZtXjnVpW"
      },
      "source": [
        "---\n",
        "#### <font color='red'>**EXERCISE:** </font>\n",
        "Define input and output shape"
      ]
    },
    {
      "cell_type": "code",
      "execution_count": 23,
      "metadata": {
        "id": "GVrmLr48Z8kN"
      },
      "outputs": [],
      "source": [
        "# input shape is a tuple of image height, image width, and 3 channel\n",
        "input_shape   = (img_h, img_w, 3)\n",
        "\n",
        "# total grid is grid width * grid height\n",
        "total_grid    = grid_w * grid_h\n",
        "\n",
        "# anchor length is number class + number anchor * 5\n",
        "anchor_length = nb_class + nb_anchor * 5"
      ]
    },
    {
      "cell_type": "markdown",
      "metadata": {
        "id": "i8U57nkknVcP"
      },
      "source": [
        "Check your implementation"
      ]
    },
    {
      "cell_type": "code",
      "execution_count": 24,
      "metadata": {
        "colab": {
          "base_uri": "https://localhost:8080/"
        },
        "id": "vyebhptVaCpO",
        "outputId": "944588d4-32a4-4496-d32a-358f58254254"
      },
      "outputs": [
        {
          "output_type": "stream",
          "name": "stdout",
          "text": [
            "input shape   : (64, 64, 3)\n",
            "total grid    : 4\n",
            "anchor length : 8\n"
          ]
        }
      ],
      "source": [
        "print('input shape   :', input_shape)\n",
        "print('total grid    :', total_grid)\n",
        "print('anchor length :', anchor_length)"
      ]
    },
    {
      "cell_type": "markdown",
      "metadata": {
        "id": "EP0d2sTuafJX"
      },
      "source": [
        "**EXPECTED OUTPUT**:\n",
        "\n",
        "if you're using default $3$ classes $64\\times 64$ image with $2\\times 2$ grid\n",
        "\n",
        "<pre>\n",
        "input shape   : (64, 64, 3)\n",
        "total grid    : 4\n",
        "anchor length : 8"
      ]
    },
    {
      "cell_type": "markdown",
      "metadata": {
        "id": "pxchNUdbqi5C"
      },
      "source": [
        "---\n",
        "## 2 - Define Classification Model\n",
        "\n",
        "Use Functional API to build the model.\n"
      ]
    },
    {
      "cell_type": "markdown",
      "metadata": {
        "id": "AgJ9PebndIZ5"
      },
      "source": [
        "---\n",
        "#### <font color='red'>**EXERCISE:** </font>\n",
        "Build model implementing the architecture as follow\n",
        "\n",
        "<pre>\n",
        "    * <b>Input</b> layer of  <font color='blue'><b>(img_h,img_w,3)</b></font>  \n",
        "    * <b>conv</b> layer with <font color='blue'><b>16</b></font> filters of <font color='blue'><b>1x1</b></font> without activation\n",
        "    * <b>conv</b> layer with <font color='blue'><b>32</b></font> filters of <font color='blue'><b>3x3</b></font> without activation\n",
        "    * <b>LeakyReLU</b> activation with alpha <font color='blue'><b>0.01</b></font>\n",
        "    * <b>MaxPool2D</b> layer      \n",
        "    * <b>conv</b> layer with <font color='blue'><b>16</b></font> filters of <font color='blue'><b>3x3</b></font> without activation\n",
        "    * <b>conv</b> layer with <font color='blue'><b>32</b></font> filters of <font color='blue'><b>3x3</b></font> without activation\n",
        "    * <b>LeakyReLU</b> activation with alpha <font color='blue'><b>0.01</b></font>\n",
        "    * <b>MaxPool2D</b> layer      \n",
        "    * <b>Flatten</b> layer\n",
        "    * <b>Fully connected</b> layer with <font color='blue'><b>256</b></font> neurons and activation <font color='blue'><b>sigmoid</b></font>\n",
        "    * <b>Fully connected</b> layer with <font color='blue'><b>output_shape</b></font> neurons and activation <font color='blue'><b>sigmoid</b></font>\n",
        "    * <b>Reshape</b> layer to reshape output activation to <font color='blue'><b>(grid, anchors)</b></font>  shape\n",
        "</pre>"
      ]
    },
    {
      "cell_type": "code",
      "execution_count": 25,
      "metadata": {
        "id": "7sb-dY8LQYvU"
      },
      "outputs": [],
      "source": [
        "from tensorflow.keras.layers import Input, Conv2D, LeakyReLU, MaxPooling2D, Flatten, Dense, Reshape\n",
        "from tensorflow.keras.models import Model\n",
        "\n",
        "# define Input() layer with shape=input_shape\n",
        "input_tensor = Input(shape=input_shape)\n",
        "\n",
        "# add conv2d to input_tensor with 16 filters, kernel size 1\n",
        "x = Conv2D(16, kernel_size=1)(input_tensor)\n",
        "\n",
        "# add conv2d to x with 32 filters, kernel size 3\n",
        "x = Conv2D(32, kernel_size=3)(x)\n",
        "\n",
        "# add leakyrelu to x alpha=0.3\n",
        "x = LeakyReLU(alpha=0.3)(x)\n",
        "\n",
        "# add maxpool2d layer to x\n",
        "x = MaxPooling2D()(x)\n",
        "\n",
        "# add conv2d to x with 16 filters, kernel size 3\n",
        "x = Conv2D(16, kernel_size=3)(x)\n",
        "\n",
        "# add conv2d to x with 32 filters, kernel size 3\n",
        "x = Conv2D(32, kernel_size=3)(x)\n",
        "\n",
        "# add leakyrelu to x alpha=0.3\n",
        "x = LeakyReLU(alpha=0.3)(x)\n",
        "\n",
        "# add maxpool2d layer to x\n",
        "x = MaxPooling2D()(x)\n",
        "\n",
        "# add flatten layer to x\n",
        "x = Flatten()(x)\n",
        "\n",
        "# add dense layer to x with 256 neurons and sigmoid activation\n",
        "x = Dense(256, activation='sigmoid')(x)\n",
        "\n",
        "# add dense layer to x with total_grid * anchor_length neurons and sigmoid activation\n",
        "x = Dense(total_grid * anchor_length, activation='sigmoid')(x)\n",
        "\n",
        "# add reshape layer to x with input (total_grid, anchor_length)\n",
        "output_tensor = Reshape((total_grid, anchor_length))(x)\n",
        "\n",
        "# initialize model by calling Model() function with input input_tensor and output_tensor\n",
        "model = Model(input_tensor, output_tensor)\n"
      ]
    },
    {
      "cell_type": "markdown",
      "metadata": {
        "id": "_HS38mhyqy5d"
      },
      "source": [
        "Now to check your implementation"
      ]
    },
    {
      "cell_type": "code",
      "execution_count": 26,
      "metadata": {
        "colab": {
          "base_uri": "https://localhost:8080/"
        },
        "id": "h2b_OIbD1Qwv",
        "outputId": "538171ed-6aa4-4d20-967e-2e307e61f0bd"
      },
      "outputs": [
        {
          "output_type": "stream",
          "name": "stdout",
          "text": [
            "Model: \"model\"\n",
            "_________________________________________________________________\n",
            " Layer (type)                Output Shape              Param #   \n",
            "=================================================================\n",
            " input_1 (InputLayer)        [(None, 64, 64, 3)]       0         \n",
            "                                                                 \n",
            " conv2d (Conv2D)             (None, 64, 64, 16)        64        \n",
            "                                                                 \n",
            " conv2d_1 (Conv2D)           (None, 62, 62, 32)        4640      \n",
            "                                                                 \n",
            " leaky_re_lu (LeakyReLU)     (None, 62, 62, 32)        0         \n",
            "                                                                 \n",
            " max_pooling2d (MaxPooling2  (None, 31, 31, 32)        0         \n",
            " D)                                                              \n",
            "                                                                 \n",
            " conv2d_2 (Conv2D)           (None, 29, 29, 16)        4624      \n",
            "                                                                 \n",
            " conv2d_3 (Conv2D)           (None, 27, 27, 32)        4640      \n",
            "                                                                 \n",
            " leaky_re_lu_1 (LeakyReLU)   (None, 27, 27, 32)        0         \n",
            "                                                                 \n",
            " max_pooling2d_1 (MaxPoolin  (None, 13, 13, 32)        0         \n",
            " g2D)                                                            \n",
            "                                                                 \n",
            " flatten (Flatten)           (None, 5408)              0         \n",
            "                                                                 \n",
            " dense (Dense)               (None, 256)               1384704   \n",
            "                                                                 \n",
            " dense_1 (Dense)             (None, 32)                8224      \n",
            "                                                                 \n",
            " reshape (Reshape)           (None, 4, 8)              0         \n",
            "                                                                 \n",
            "=================================================================\n",
            "Total params: 1406896 (5.37 MB)\n",
            "Trainable params: 1406896 (5.37 MB)\n",
            "Non-trainable params: 0 (0.00 Byte)\n",
            "_________________________________________________________________\n",
            "None\n"
          ]
        }
      ],
      "source": [
        "print(model.summary())"
      ]
    },
    {
      "cell_type": "markdown",
      "metadata": {
        "id": "zZFcAz0yV6f0"
      },
      "source": [
        "**EXPECTED OUTPUT**:\n",
        "\n",
        "if you're using default $3$ classes $64\\times 64$ image with $2\\times 2$ grid\n",
        "\n",
        "<pre>\n",
        "input_? (InputLayer)         [(None, 64, 64, 3)]       0         \n",
        "conv2d (Conv2D)              (None, 64, 64, 16)        64        \n",
        "...\n",
        "dense_? (Dense)              (None, 32)                8224      \n",
        "reshape (Reshape)            (None, 4, 8)              0         \n",
        "\n",
        "Total params: 1,406,896\n",
        "Trainable params: 1,406,896\n",
        "Non-trainable params: 0\n",
        "_________________________________________________________________"
      ]
    },
    {
      "cell_type": "markdown",
      "metadata": {
        "id": "tfq1R4knnu1o"
      },
      "source": [
        "Visualize the Network architecture"
      ]
    },
    {
      "cell_type": "code",
      "execution_count": 27,
      "metadata": {
        "colab": {
          "base_uri": "https://localhost:8080/",
          "height": 34
        },
        "id": "R7x7KSnbTVCQ",
        "outputId": "42245478-e784-443c-9510-4d912b4b28d6"
      },
      "outputs": [
        {
          "output_type": "execute_result",
          "data": {
            "image/png": "[encoded data removed]",
            "text/plain": [
              "<IPython.core.display.Image object>"
            ]
          },
          "metadata": {},
          "execution_count": 27
        }
      ],
      "source": [
        "plot_model(model, show_shapes=True,\n",
        "    show_layer_names=False,\n",
        "    rankdir='LR',\n",
        "    expand_nested=False,\n",
        "    dpi=60\n",
        ")"
      ]
    },
    {
      "cell_type": "markdown",
      "metadata": {
        "id": "7NjxRqxGLx67"
      },
      "source": [
        "---\n",
        "## 3 - Define Loss\n",
        "\n",
        "YOLO uses sum-squared error between the predictions and the ground truth to calculate loss.\n",
        "\n",
        "The loss function composes of:\n",
        "* the **classification loss.**\n",
        "* the **localization loss** (errors between the predicted boundary box and the ground truth).\n",
        "* the **confidence loss** (the objectness of the box)."
      ]
    },
    {
      "cell_type": "markdown",
      "metadata": {
        "id": "Jbdz8h19wjiT"
      },
      "source": [
        "---\n",
        "### a. Classification Loss\n",
        "If an object is detected, the classification loss at each cell is the squared error of the class conditional probabilities for each class:\n",
        "\n",
        "$$\n",
        " \\sum_{i=0}^{S^2}{1}_i^\\text{obj} \\sum_{c \\in \\text{classes}}\\big(p_i(c)-\\hat{p_i}(c)\\big)^2\n",
        "$$"
      ]
    },
    {
      "cell_type": "markdown",
      "metadata": {
        "id": "TYBTjrpSyPQ4"
      },
      "source": [
        "---\n",
        "### b. Localization Loss\n",
        "The localization loss measures the errors in the predicted boundary box locations and sizes. We only count the box responsible for detecting the object.\n",
        "\n",
        "$$\n",
        " x\\lambda_\\text{coord}\\sum_{i=0}^{S^2}\\sum_{j=0}^{B}{1}_{ij}^\\text{obj} \\big[(x_i-\\hat{x}_i)^2+(y_i-\\hat{y}_i)^2\\big]\\\\+\\lambda_\\text{coord}\\sum_{i=0}^{S^2}\\sum_{j=0}^{B}\\rm{1}_{ij}^\\text{obj} \\big[(\\sqrt{w_i}-\\sqrt{\\hat{w}_i})^2+(\\sqrt{h_i}-\\sqrt{\\hat{h}_i})^2\\big]\n",
        "$$"
      ]
    },
    {
      "cell_type": "markdown",
      "metadata": {
        "id": "riqcUuWRyPTg"
      },
      "source": [
        "---\n",
        "### c. Confidence Loss\n",
        "If an object is detected in the box, the confidence loss (measuring the objectness of the box) is:\n",
        "$$\n",
        "\\sum_{i=0}^{S^2}\\sum_{j=0}^{B}{1}_{ij}^\\text{obj}(C_i-\\hat{C}_i)^2\n",
        "$$\n",
        "\n",
        "If an object is **NOT** detected in the box, the confidence loss is:\n",
        "$$\n",
        "\\lambda_\\text{noobj}\\sum_{i=0}^{S^2}\\sum_{j=0}^{B}{1}_{ij}^\\text{noobj}(C_i-\\hat{C}_i)^2\n",
        "$$"
      ]
    },
    {
      "cell_type": "markdown",
      "metadata": {
        "id": "-3Tl8aL1q8KQ"
      },
      "source": [
        "---\n",
        "### d. Complete Implementation\n",
        "\n",
        "Now don't be disheartened, we already prepared the loss implementation for you. So read the code carefully."
      ]
    },
    {
      "cell_type": "code",
      "execution_count": 28,
      "metadata": {
        "id": "Z2BDqW2OQldU"
      },
      "outputs": [],
      "source": [
        "def custom_loss(y_true, y_pred):\n",
        "\n",
        "    grid = np.array([ [[float(x),float(y)]]*nb_anchor   for y in range(grid_h) for x in range(grid_w)])\n",
        "\n",
        "    # get the actual and predicted class\n",
        "    y_true_class   = y_true[...,0:nb_class-1]\n",
        "    y_pred_class   = y_pred[...,0:nb_class-1]\n",
        "\n",
        "    # get the actual and predicted box\n",
        "    pred_boxes     = K.reshape(y_pred[...,nb_class:], (-1,grid_w*grid_h,nb_anchor,5))\n",
        "    true_boxes     = K.reshape(y_true[...,nb_class:], (-1,grid_w*grid_h,nb_anchor,5))\n",
        "\n",
        "    # get predicted coordinates and confidence\n",
        "    y_pred_xy      = pred_boxes[...,0:2] + K.variable(grid)\n",
        "    y_pred_wh      = pred_boxes[...,2:4]\n",
        "    y_pred_conf    = pred_boxes[...,4]\n",
        "\n",
        "    # get actual coordinates and confidence\n",
        "    y_true_xy      = true_boxes[...,0:2]\n",
        "    y_true_wh      = true_boxes[...,2:4]\n",
        "    y_true_conf    = true_boxes[...,4]\n",
        "\n",
        "    # calculate classification loss\n",
        "    clss_loss      = K.sum(K.square(y_true_class - y_pred_class), axis=-1)\n",
        "\n",
        "    # calculate localization loss\n",
        "    xy_loss        = K.sum(K.sum(K.square(y_true_xy - y_pred_xy),axis=-1)*y_true_conf, axis=-1)\n",
        "    wh_loss        = K.sum(K.sum(K.square(K.sqrt(y_true_wh) - K.sqrt(y_pred_wh)), axis=-1)*y_true_conf, axis=-1)\n",
        "\n",
        "    # non-max suppression\n",
        "    intersect_wh   = K.maximum(K.zeros_like(y_pred_wh), (y_pred_wh + y_true_wh)/2 - K.abs(y_pred_xy - y_true_xy) )\n",
        "    intersect_area = intersect_wh[...,0] * intersect_wh[...,1]\n",
        "\n",
        "    true_area      = y_true_wh[...,0] * y_true_wh[...,1]\n",
        "    pred_area      = y_pred_wh[...,0] * y_pred_wh[...,1]\n",
        "\n",
        "    # calculate intersection over union\n",
        "    union_area     = pred_area + true_area - intersect_area\n",
        "    iou            = intersect_area / union_area\n",
        "\n",
        "    # calculate confidence loss\n",
        "    conf_loss      = K.sum(K.square(y_true_conf*iou - y_pred_conf)*y_true_conf, axis=-1)\n",
        "\n",
        "    # sum all losses\n",
        "    d = clss_loss + xy_loss + wh_loss + conf_loss\n",
        "\n",
        "    return d"
      ]
    },
    {
      "cell_type": "markdown",
      "metadata": {
        "id": "RONoPBO4L8QD"
      },
      "source": [
        "---\n",
        "## 4 - Compile Model\n",
        "\n",
        "Now compile model by adding the custom loss and Adam optimizer"
      ]
    },
    {
      "cell_type": "markdown",
      "metadata": {
        "id": "1go-FVJ91tXL"
      },
      "source": [
        "---\n",
        "#### <font color='red'>**EXERCISE:** </font>\n",
        "compile model using custom_loss and Adam optimizer with lr=0.001"
      ]
    },
    {
      "cell_type": "code",
      "execution_count": 29,
      "metadata": {
        "id": "MMMwxYswQyos"
      },
      "outputs": [],
      "source": [
        "from tensorflow.keras.optimizers import Adam\n",
        "\n",
        "# initialize Adam optimizer with lr=0.001\n",
        "myAdam = tf.keras.optimizers.legacy.Adam(learning_rate=0.001)\n",
        "\n",
        "# compile model with loss=custom_loss and optimizer=myAdam\n",
        "model.compile(loss=custom_loss, optimizer=myAdam)"
      ]
    },
    {
      "cell_type": "markdown",
      "metadata": {
        "id": "M0y1uR1YL-rk"
      },
      "source": [
        "---\n",
        "## 5 - Train Model\n",
        "\n",
        "Train the model for 80 epochs"
      ]
    },
    {
      "cell_type": "code",
      "execution_count": 30,
      "metadata": {
        "colab": {
          "base_uri": "https://localhost:8080/"
        },
        "id": "ySRznr3VTj6x",
        "outputId": "ad1e8ab8-3fea-48fb-a978-03418252d056"
      },
      "outputs": [
        {
          "output_type": "stream",
          "name": "stdout",
          "text": [
            "Train on 5000 samples, validate on 1000 samples\n",
            "Epoch 1/80\n",
            "5000/5000 [==============================] - ETA: 0s - loss: 0.6980"
          ]
        },
        {
          "output_type": "stream",
          "name": "stderr",
          "text": [
            "/usr/local/lib/python3.10/dist-packages/keras/src/engine/training_v1.py:2335: UserWarning: `Model.state_updates` will be removed in a future version. This property should not be used in TensorFlow 2.0, as `updates` are applied automatically.\n",
            "  updates = self.state_updates\n"
          ]
        },
        {
          "output_type": "stream",
          "name": "stdout",
          "text": [
            "\b\b\b\b\b\b\b\b\b\b\b\b\b\b\b\b\b\b\b\b\b\b\b\b\b\b\b\b\b\b\b\b\b\b\b\b\b\b\b\b\b\b\b\b\b\b\b\b\b\b\b\b\b\b\b\b\b\b\b\b\b\b\b\b\b\b\b\r5000/5000 [==============================] - 19s 4ms/sample - loss: 0.6980 - val_loss: 0.5553\n",
            "Epoch 2/80\n",
            "5000/5000 [==============================] - 1s 196us/sample - loss: 0.5456 - val_loss: 0.5465\n",
            "Epoch 3/80\n",
            "5000/5000 [==============================] - 1s 155us/sample - loss: 0.5409 - val_loss: 0.5444\n",
            "Epoch 4/80\n",
            "5000/5000 [==============================] - 1s 150us/sample - loss: 0.5389 - val_loss: 0.5426\n",
            "Epoch 5/80\n",
            "5000/5000 [==============================] - 1s 160us/sample - loss: 0.5381 - val_loss: 0.5420\n",
            "Epoch 6/80\n",
            "5000/5000 [==============================] - 1s 147us/sample - loss: 0.5376 - val_loss: 0.5416\n",
            "Epoch 7/80\n",
            "5000/5000 [==============================] - 1s 157us/sample - loss: 0.5370 - val_loss: 0.5413\n",
            "Epoch 8/80\n",
            "5000/5000 [==============================] - 1s 159us/sample - loss: 0.5370 - val_loss: 0.5411\n",
            "Epoch 9/80\n",
            "5000/5000 [==============================] - 1s 165us/sample - loss: 0.5369 - val_loss: 0.5412\n",
            "Epoch 10/80\n",
            "5000/5000 [==============================] - 1s 166us/sample - loss: 0.5364 - val_loss: 0.5414\n",
            "Epoch 11/80\n",
            "5000/5000 [==============================] - 1s 174us/sample - loss: 0.5366 - val_loss: 0.5408\n",
            "Epoch 12/80\n",
            "5000/5000 [==============================] - 1s 157us/sample - loss: 0.5365 - val_loss: 0.5410\n",
            "Epoch 13/80\n",
            "5000/5000 [==============================] - 1s 163us/sample - loss: 0.5363 - val_loss: 0.5411\n",
            "Epoch 14/80\n",
            "5000/5000 [==============================] - 1s 148us/sample - loss: 0.5362 - val_loss: 0.5405\n",
            "Epoch 15/80\n",
            "5000/5000 [==============================] - 1s 163us/sample - loss: 0.5362 - val_loss: 0.5407\n",
            "Epoch 16/80\n",
            "5000/5000 [==============================] - 1s 159us/sample - loss: 0.5362 - val_loss: 0.5407\n",
            "Epoch 17/80\n",
            "5000/5000 [==============================] - 1s 149us/sample - loss: 0.5361 - val_loss: 0.5409\n",
            "Epoch 18/80\n",
            "5000/5000 [==============================] - 1s 157us/sample - loss: 0.5363 - val_loss: 0.5405\n",
            "Epoch 19/80\n",
            "5000/5000 [==============================] - 1s 156us/sample - loss: 0.5362 - val_loss: 0.5410\n",
            "Epoch 20/80\n",
            "5000/5000 [==============================] - 1s 150us/sample - loss: 0.5361 - val_loss: 0.5406\n",
            "Epoch 21/80\n",
            "5000/5000 [==============================] - 1s 167us/sample - loss: 0.5361 - val_loss: 0.5408\n",
            "Epoch 22/80\n",
            "5000/5000 [==============================] - 1s 155us/sample - loss: 0.5362 - val_loss: 0.5403\n",
            "Epoch 23/80\n",
            "5000/5000 [==============================] - 1s 150us/sample - loss: 0.5361 - val_loss: 0.5403\n",
            "Epoch 24/80\n",
            "5000/5000 [==============================] - 1s 156us/sample - loss: 0.5362 - val_loss: 0.5406\n",
            "Epoch 25/80\n",
            "5000/5000 [==============================] - 1s 168us/sample - loss: 0.5363 - val_loss: 0.5408\n",
            "Epoch 26/80\n",
            "5000/5000 [==============================] - 1s 158us/sample - loss: 0.5366 - val_loss: 0.5412\n",
            "Epoch 27/80\n",
            "5000/5000 [==============================] - 1s 170us/sample - loss: 0.5366 - val_loss: 0.5408\n",
            "Epoch 28/80\n",
            "5000/5000 [==============================] - 1s 167us/sample - loss: 0.5363 - val_loss: 0.5410\n",
            "Epoch 29/80\n",
            "5000/5000 [==============================] - 1s 152us/sample - loss: 0.5358 - val_loss: 0.5403\n",
            "Epoch 30/80\n",
            "5000/5000 [==============================] - 1s 156us/sample - loss: 0.5359 - val_loss: 0.5408\n",
            "Epoch 31/80\n",
            "5000/5000 [==============================] - 1s 152us/sample - loss: 0.5359 - val_loss: 0.5402\n",
            "Epoch 32/80\n",
            "5000/5000 [==============================] - 1s 155us/sample - loss: 0.5360 - val_loss: 0.5408\n",
            "Epoch 33/80\n",
            "5000/5000 [==============================] - 1s 152us/sample - loss: 0.5360 - val_loss: 0.5403\n",
            "Epoch 34/80\n",
            "5000/5000 [==============================] - 1s 161us/sample - loss: 0.5361 - val_loss: 0.5403\n",
            "Epoch 35/80\n",
            "5000/5000 [==============================] - 1s 161us/sample - loss: 0.5360 - val_loss: 0.5403\n",
            "Epoch 36/80\n",
            "5000/5000 [==============================] - 1s 151us/sample - loss: 0.5358 - val_loss: 0.5403\n",
            "Epoch 37/80\n",
            "5000/5000 [==============================] - 1s 157us/sample - loss: 0.5358 - val_loss: 0.5405\n",
            "Epoch 38/80\n",
            "5000/5000 [==============================] - 1s 157us/sample - loss: 0.5360 - val_loss: 0.5401\n",
            "Epoch 39/80\n",
            "5000/5000 [==============================] - 1s 150us/sample - loss: 0.5360 - val_loss: 0.5408\n",
            "Epoch 40/80\n",
            "5000/5000 [==============================] - 1s 157us/sample - loss: 0.5360 - val_loss: 0.5399\n",
            "Epoch 41/80\n",
            "5000/5000 [==============================] - 1s 163us/sample - loss: 0.5358 - val_loss: 0.5404\n",
            "Epoch 42/80\n",
            "5000/5000 [==============================] - 1s 159us/sample - loss: 0.5359 - val_loss: 0.5403\n",
            "Epoch 43/80\n",
            "5000/5000 [==============================] - 1s 177us/sample - loss: 0.5359 - val_loss: 0.5399\n",
            "Epoch 44/80\n",
            "5000/5000 [==============================] - 1s 167us/sample - loss: 0.5357 - val_loss: 0.5405\n",
            "Epoch 45/80\n",
            "5000/5000 [==============================] - 1s 151us/sample - loss: 0.5362 - val_loss: 0.5404\n",
            "Epoch 46/80\n",
            "5000/5000 [==============================] - 1s 161us/sample - loss: 0.5360 - val_loss: 0.5404\n",
            "Epoch 47/80\n",
            "5000/5000 [==============================] - 1s 157us/sample - loss: 0.5361 - val_loss: 0.5399\n",
            "Epoch 48/80\n",
            "5000/5000 [==============================] - 1s 158us/sample - loss: 0.5363 - val_loss: 0.5404\n",
            "Epoch 49/80\n",
            "5000/5000 [==============================] - 1s 152us/sample - loss: 0.5361 - val_loss: 0.5400\n",
            "Epoch 50/80\n",
            "5000/5000 [==============================] - 1s 160us/sample - loss: 0.5359 - val_loss: 0.5400\n",
            "Epoch 51/80\n",
            "5000/5000 [==============================] - 1s 165us/sample - loss: 0.5357 - val_loss: 0.5401\n",
            "Epoch 52/80\n",
            "5000/5000 [==============================] - 1s 153us/sample - loss: 0.5359 - val_loss: 0.5403\n",
            "Epoch 53/80\n",
            "5000/5000 [==============================] - 1s 157us/sample - loss: 0.5360 - val_loss: 0.5403\n",
            "Epoch 54/80\n",
            "5000/5000 [==============================] - 1s 159us/sample - loss: 0.5361 - val_loss: 0.5406\n",
            "Epoch 55/80\n",
            "5000/5000 [==============================] - 1s 165us/sample - loss: 0.5360 - val_loss: 0.5402\n",
            "Epoch 56/80\n",
            "5000/5000 [==============================] - 1s 153us/sample - loss: 0.5361 - val_loss: 0.5404\n",
            "Epoch 57/80\n",
            "5000/5000 [==============================] - 1s 168us/sample - loss: 0.5358 - val_loss: 0.5406\n",
            "Epoch 58/80\n",
            "5000/5000 [==============================] - 1s 167us/sample - loss: 0.5358 - val_loss: 0.5400\n",
            "Epoch 59/80\n",
            "5000/5000 [==============================] - 1s 170us/sample - loss: 0.5357 - val_loss: 0.5401\n",
            "Epoch 60/80\n",
            "5000/5000 [==============================] - 1s 157us/sample - loss: 0.5357 - val_loss: 0.5404\n",
            "Epoch 61/80\n",
            "5000/5000 [==============================] - 1s 155us/sample - loss: 0.5363 - val_loss: 0.5403\n",
            "Epoch 62/80\n",
            "5000/5000 [==============================] - 1s 162us/sample - loss: 0.5359 - val_loss: 0.5406\n",
            "Epoch 63/80\n",
            "5000/5000 [==============================] - 1s 164us/sample - loss: 0.5359 - val_loss: 0.5399\n",
            "Epoch 64/80\n",
            "5000/5000 [==============================] - 1s 154us/sample - loss: 0.5358 - val_loss: 0.5408\n",
            "Epoch 65/80\n",
            "5000/5000 [==============================] - 1s 166us/sample - loss: 0.5361 - val_loss: 0.5402\n",
            "Epoch 66/80\n",
            "5000/5000 [==============================] - 1s 161us/sample - loss: 0.5358 - val_loss: 0.5402\n",
            "Epoch 67/80\n",
            "5000/5000 [==============================] - 1s 153us/sample - loss: 0.5363 - val_loss: 0.5404\n",
            "Epoch 68/80\n",
            "5000/5000 [==============================] - 1s 161us/sample - loss: 0.5362 - val_loss: 0.5401\n",
            "Epoch 69/80\n",
            "5000/5000 [==============================] - 1s 159us/sample - loss: 0.5360 - val_loss: 0.5403\n",
            "Epoch 70/80\n",
            "5000/5000 [==============================] - 1s 154us/sample - loss: 0.5356 - val_loss: 0.5399\n",
            "Epoch 71/80\n",
            "5000/5000 [==============================] - 1s 160us/sample - loss: 0.5359 - val_loss: 0.5403\n",
            "Epoch 72/80\n",
            "5000/5000 [==============================] - 1s 165us/sample - loss: 0.5363 - val_loss: 0.5403\n",
            "Epoch 73/80\n",
            "5000/5000 [==============================] - 1s 174us/sample - loss: 0.5360 - val_loss: 0.5402\n",
            "Epoch 74/80\n",
            "5000/5000 [==============================] - 1s 163us/sample - loss: 0.5361 - val_loss: 0.5406\n",
            "Epoch 75/80\n",
            "5000/5000 [==============================] - 1s 159us/sample - loss: 0.5359 - val_loss: 0.5404\n",
            "Epoch 76/80\n",
            "5000/5000 [==============================] - 1s 161us/sample - loss: 0.5362 - val_loss: 0.5404\n",
            "Epoch 77/80\n",
            "5000/5000 [==============================] - 1s 158us/sample - loss: 0.5365 - val_loss: 0.5399\n",
            "Epoch 78/80\n",
            "5000/5000 [==============================] - 1s 154us/sample - loss: 0.5363 - val_loss: 0.5403\n",
            "Epoch 79/80\n",
            "5000/5000 [==============================] - 1s 166us/sample - loss: 0.5359 - val_loss: 0.5404\n",
            "Epoch 80/80\n",
            "5000/5000 [==============================] - 1s 163us/sample - loss: 0.5359 - val_loss: 0.5402\n"
          ]
        }
      ],
      "source": [
        "hist = model.fit(x_train, y_train, validation_data=(x_val, y_val), batch_size=512, epochs=80)"
      ]
    },
    {
      "cell_type": "markdown",
      "metadata": {
        "id": "KfoRy05W2s9i"
      },
      "source": [
        "**EXPECTED OUTPUT**:\n",
        "<pre>\n",
        "your loss should start around 0.6 and end around 0.01 after 80 epochs"
      ]
    },
    {
      "cell_type": "markdown",
      "metadata": {
        "id": "46S7or-A1_w-"
      },
      "source": [
        "Visualize training history"
      ]
    },
    {
      "cell_type": "code",
      "execution_count": 31,
      "metadata": {
        "id": "hljJ-XMlrzrC",
        "outputId": "2a9f5d67-f6c0-4694-aff3-e7a881823539",
        "colab": {
          "base_uri": "https://localhost:8080/",
          "height": 385
        }
      },
      "outputs": [
        {
          "output_type": "display_data",
          "data": {
            "text/plain": [
              "<Figure size 800x400 with 1 Axes>"
            ],
            "image/png": "[encoded data removed]"
          },
          "metadata": {}
        }
      ],
      "source": [
        "plt.rcParams['figure.figsize'] = [8, 4]\n",
        "plt.subplots_adjust(wspace=0.2)\n",
        "\n",
        "plt.plot(hist.history['loss'])\n",
        "plt.plot(hist.history['val_loss'])\n",
        "plt.title('Model loss')\n",
        "plt.ylabel('Loss')\n",
        "plt.xlabel('Epoch')\n",
        "plt.legend(['Train', 'Val'])\n",
        "plt.show()\n"
      ]
    },
    {
      "cell_type": "markdown",
      "metadata": {
        "id": "Gl1Nk0mTMFdW"
      },
      "source": [
        "---\n",
        "## 6 - Test Detection\n",
        "\n",
        "Let's show the detection results"
      ]
    },
    {
      "cell_type": "markdown",
      "metadata": {
        "id": "95z4KPICQbmH"
      },
      "source": [
        "---\n",
        "### a. Using Data Train\n",
        "\n",
        "First, let's see the performance on training data"
      ]
    },
    {
      "cell_type": "code",
      "execution_count": 32,
      "metadata": {
        "id": "zyuuWAtl-CQM",
        "outputId": "1a55dd71-5587-4bd3-d95d-744c0619009b",
        "colab": {
          "base_uri": "https://localhost:8080/"
        }
      },
      "outputs": [
        {
          "output_type": "stream",
          "name": "stderr",
          "text": [
            "/usr/local/lib/python3.10/dist-packages/keras/src/engine/training_v1.py:2359: UserWarning: `Model.state_updates` will be removed in a future version. This property should not be used in TensorFlow 2.0, as `updates` are applied automatically.\n",
            "  updates=self.state_updates,\n"
          ]
        }
      ],
      "source": [
        "y_pred = model.predict(x_train)"
      ]
    },
    {
      "cell_type": "code",
      "execution_count": 33,
      "metadata": {
        "colab": {
          "base_uri": "https://localhost:8080/",
          "height": 304
        },
        "id": "CL0zNI37-CN_",
        "outputId": "b139458e-6943-42b3-82ed-facf70a026b9"
      },
      "outputs": [
        {
          "output_type": "display_data",
          "data": {
            "text/plain": [
              "<Figure size 1500x800 with 10 Axes>"
            ],
            "image/png": "[encoded data removed]"
          },
          "metadata": {}
        }
      ],
      "source": [
        "plt.figure(figsize=(15,8))\n",
        "for i in range(10):\n",
        "    img = draw_bbox(x_train[i], y_train[i], y_pred[i], threshold=0.1)\n",
        "    plt.subplot(2,5,i+1)\n",
        "    plt.imshow(img)\n",
        "    plt.axis('off')\n",
        "plt.tight_layout()\n",
        "plt.show()"
      ]
    },
    {
      "cell_type": "markdown",
      "metadata": {
        "id": "_ssSEAN52H8h"
      },
      "source": [
        "You should see that most of the objects are detected with quite precision\n",
        "\n",
        "the <font color=DeepPink>**pink**</font> label and <font color=RoyalBlue>**blue**</font> detection box means low confidence or wrong classification\n",
        "\n",
        "you can train it longer to get more precision on the detection box\n",
        "\n",
        "you can also lower the threshold when drawing the detection box\n"
      ]
    },
    {
      "cell_type": "markdown",
      "metadata": {
        "id": "XDK3_BnZQlgd"
      },
      "source": [
        "---\n",
        "### b. Using Data Validation\n",
        "\n",
        "\n",
        "Now view the detection results on validation data"
      ]
    },
    {
      "cell_type": "code",
      "execution_count": 34,
      "metadata": {
        "id": "yfmnH3JBX4zg"
      },
      "outputs": [],
      "source": [
        "y_pred_val = model.predict(x_val)"
      ]
    },
    {
      "cell_type": "code",
      "execution_count": 35,
      "metadata": {
        "id": "Zt96cZ7mX4zl",
        "outputId": "1a8fc628-42e6-4844-c56f-538919134ffe",
        "colab": {
          "base_uri": "https://localhost:8080/",
          "height": 304
        }
      },
      "outputs": [
        {
          "output_type": "display_data",
          "data": {
            "text/plain": [
              "<Figure size 1500x800 with 10 Axes>"
            ],
            "image/png": "[encoded data removed]"
          },
          "metadata": {}
        }
      ],
      "source": [
        "plt.figure(figsize=(15,8))\n",
        "for i in range(10):\n",
        "    img = draw_bbox(x_val[i], y_val[i], y_pred_val[i], threshold=0.1)\n",
        "    plt.subplot(2,5,i+1)\n",
        "    plt.imshow(img)\n",
        "    plt.axis('off')\n",
        "plt.tight_layout()\n",
        "plt.show()"
      ]
    },
    {
      "cell_type": "markdown",
      "metadata": {
        "id": "GloxDfAiXypL"
      },
      "source": [
        "---\n",
        "### c. Using Data Test\n",
        "\n",
        "Lastly, let's generate another 20 new data, and test it"
      ]
    },
    {
      "cell_type": "code",
      "execution_count": 36,
      "metadata": {
        "id": "1EpVJUR2Xp6W"
      },
      "outputs": [],
      "source": [
        "# generate 20 new data\n",
        "x_test, y_test = generate_data(20)\n",
        "\n",
        "# predict new data\n",
        "y_pred_test = model.predict(x_test)"
      ]
    },
    {
      "cell_type": "code",
      "execution_count": 37,
      "metadata": {
        "id": "GTF5rODRXjcd",
        "outputId": "f2857373-db4a-4895-dadf-66f9e339dce0",
        "colab": {
          "base_uri": "https://localhost:8080/",
          "height": 540
        }
      },
      "outputs": [
        {
          "output_type": "display_data",
          "data": {
            "text/plain": [
              "<Figure size 1500x1200 with 20 Axes>"
            ],
            "image/png": "[encoded data removed]"
          },
          "metadata": {}
        }
      ],
      "source": [
        "plt.figure(figsize=(15,12))\n",
        "for i in range(20):\n",
        "    img = draw_bbox(x_test[i], y_test[i], y_pred_test[i], threshold=0.1)\n",
        "    plt.subplot(4,5,i+1)\n",
        "    plt.imshow(img)\n",
        "    plt.axis('off')\n",
        "plt.tight_layout()\n",
        "plt.show()"
      ]
    },
    {
      "cell_type": "markdown",
      "metadata": {
        "id": "aQqQ_gcO92ub"
      },
      "source": [
        "\n",
        "---\n",
        "\n",
        "# Congratulation, You've Completed Exercise abaout Object Detection\n",
        "\n"
      ]
    }
  ],
  "metadata": {
    "accelerator": "GPU",
    "colab": {
      "toc_visible": true,
      "provenance": []
    },
    "kernelspec": {
      "display_name": "Python 3",
      "name": "python3"
    },
    "language_info": {
      "codemirror_mode": {
        "name": "ipython",
        "version": 3
      },
      "file_extension": ".py",
      "mimetype": "text/x-python",
      "name": "python",
      "nbconvert_exporter": "python",
      "pygments_lexer": "ipython3",
      "version": "3.7.3"
    },
    "toc": {
      "base_numbering": 1,
      "nav_menu": {},
      "number_sections": false,
      "sideBar": true,
      "skip_h1_title": false,
      "title_cell": "Table of Contents",
      "title_sidebar": "Contents",
      "toc_cell": false,
      "toc_position": {},
      "toc_section_display": true,
      "toc_window_display": true
    }
  },
  "nbformat": 4,
  "nbformat_minor": 0
}